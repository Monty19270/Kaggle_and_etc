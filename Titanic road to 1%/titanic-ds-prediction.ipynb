{
 "cells": [
  {
   "cell_type": "code",
   "execution_count": 1,
   "id": "f6f0ebea",
   "metadata": {
    "_cell_guid": "b1076dfc-b9ad-4769-8c92-a6c4dae69d19",
    "_uuid": "8f2839f25d086af736a60e9eeb907d3b93b6e0e5",
    "execution": {
     "iopub.execute_input": "2021-09-14T16:12:11.546364Z",
     "iopub.status.busy": "2021-09-14T16:12:11.544872Z",
     "iopub.status.idle": "2021-09-14T16:12:11.552467Z",
     "shell.execute_reply": "2021-09-14T16:12:11.551073Z",
     "shell.execute_reply.started": "2021-09-14T11:17:00.017507Z"
    },
    "papermill": {
     "duration": 0.049056,
     "end_time": "2021-09-14T16:12:11.552736",
     "exception": false,
     "start_time": "2021-09-14T16:12:11.503680",
     "status": "completed"
    },
    "tags": []
   },
   "outputs": [
    {
     "name": "stdout",
     "output_type": "stream",
     "text": [
      "/kaggle/input/titanic/train.csv\n",
      "/kaggle/input/titanic/test.csv\n",
      "/kaggle/input/titanic/gender_submission.csv\n"
     ]
    }
   ],
   "source": [
    "# This Python 3 environment comes with many helpful analytics libraries installed\n",
    "# It is defined by the kaggle/python Docker image: https://github.com/kaggle/docker-python\n",
    "# For example, here's several helpful packages to load\n",
    "\n",
    "import numpy as np # linear algebra\n",
    "import pandas as pd # data processing, CSV file I/O (e.g. pd.read_csv)\n",
    "\n",
    "# Input data files are available in the read-only \"../input/\" directory\n",
    "# For example, running this (by clicking run or pressing Shift+Enter) will list all files under the input directory\n",
    "\n",
    "import os\n",
    "for dirname, _, filenames in os.walk('/kaggle/input'):\n",
    "    for filename in filenames:\n",
    "        print(os.path.join(dirname, filename))\n",
    "\n",
    "# You can write up to 20GB to the current directory (/kaggle/working/) that gets preserved as output when you create a version using \"Save & Run All\" \n",
    "# You can also write temporary files to /kaggle/temp/, but they won't be saved outside of the current session"
   ]
  },
  {
   "cell_type": "code",
   "execution_count": 2,
   "id": "b331eb3a",
   "metadata": {
    "execution": {
     "iopub.execute_input": "2021-09-14T16:12:11.610554Z",
     "iopub.status.busy": "2021-09-14T16:12:11.609853Z",
     "iopub.status.idle": "2021-09-14T16:12:12.826460Z",
     "shell.execute_reply": "2021-09-14T16:12:12.825882Z",
     "shell.execute_reply.started": "2021-09-14T11:17:58.131499Z"
    },
    "papermill": {
     "duration": 1.24735,
     "end_time": "2021-09-14T16:12:12.826621",
     "exception": false,
     "start_time": "2021-09-14T16:12:11.579271",
     "status": "completed"
    },
    "tags": []
   },
   "outputs": [],
   "source": [
    "# visualization libs\n",
    "import seaborn as sns\n",
    "import matplotlib.pyplot as plt\n",
    "%matplotlib inline"
   ]
  },
  {
   "cell_type": "code",
   "execution_count": 3,
   "id": "70e5d755",
   "metadata": {
    "execution": {
     "iopub.execute_input": "2021-09-14T16:12:12.886421Z",
     "iopub.status.busy": "2021-09-14T16:12:12.885588Z",
     "iopub.status.idle": "2021-09-14T16:12:12.943279Z",
     "shell.execute_reply": "2021-09-14T16:12:12.942692Z",
     "shell.execute_reply.started": "2021-09-14T14:16:48.346043Z"
    },
    "papermill": {
     "duration": 0.091676,
     "end_time": "2021-09-14T16:12:12.943424",
     "exception": false,
     "start_time": "2021-09-14T16:12:12.851748",
     "status": "completed"
    },
    "tags": []
   },
   "outputs": [
    {
     "data": {
      "text/html": [
       "<div>\n",
       "<style scoped>\n",
       "    .dataframe tbody tr th:only-of-type {\n",
       "        vertical-align: middle;\n",
       "    }\n",
       "\n",
       "    .dataframe tbody tr th {\n",
       "        vertical-align: top;\n",
       "    }\n",
       "\n",
       "    .dataframe thead th {\n",
       "        text-align: right;\n",
       "    }\n",
       "</style>\n",
       "<table border=\"1\" class=\"dataframe\">\n",
       "  <thead>\n",
       "    <tr style=\"text-align: right;\">\n",
       "      <th></th>\n",
       "      <th>PassengerId</th>\n",
       "      <th>Survived</th>\n",
       "      <th>Pclass</th>\n",
       "      <th>Name</th>\n",
       "      <th>Sex</th>\n",
       "      <th>Age</th>\n",
       "      <th>SibSp</th>\n",
       "      <th>Parch</th>\n",
       "      <th>Ticket</th>\n",
       "      <th>Fare</th>\n",
       "      <th>Cabin</th>\n",
       "      <th>Embarked</th>\n",
       "    </tr>\n",
       "  </thead>\n",
       "  <tbody>\n",
       "    <tr>\n",
       "      <th>0</th>\n",
       "      <td>1</td>\n",
       "      <td>0</td>\n",
       "      <td>3</td>\n",
       "      <td>Braund, Mr. Owen Harris</td>\n",
       "      <td>male</td>\n",
       "      <td>22.0</td>\n",
       "      <td>1</td>\n",
       "      <td>0</td>\n",
       "      <td>A/5 21171</td>\n",
       "      <td>7.2500</td>\n",
       "      <td>NaN</td>\n",
       "      <td>S</td>\n",
       "    </tr>\n",
       "    <tr>\n",
       "      <th>1</th>\n",
       "      <td>2</td>\n",
       "      <td>1</td>\n",
       "      <td>1</td>\n",
       "      <td>Cumings, Mrs. John Bradley (Florence Briggs Th...</td>\n",
       "      <td>female</td>\n",
       "      <td>38.0</td>\n",
       "      <td>1</td>\n",
       "      <td>0</td>\n",
       "      <td>PC 17599</td>\n",
       "      <td>71.2833</td>\n",
       "      <td>C85</td>\n",
       "      <td>C</td>\n",
       "    </tr>\n",
       "    <tr>\n",
       "      <th>2</th>\n",
       "      <td>3</td>\n",
       "      <td>1</td>\n",
       "      <td>3</td>\n",
       "      <td>Heikkinen, Miss. Laina</td>\n",
       "      <td>female</td>\n",
       "      <td>26.0</td>\n",
       "      <td>0</td>\n",
       "      <td>0</td>\n",
       "      <td>STON/O2. 3101282</td>\n",
       "      <td>7.9250</td>\n",
       "      <td>NaN</td>\n",
       "      <td>S</td>\n",
       "    </tr>\n",
       "    <tr>\n",
       "      <th>3</th>\n",
       "      <td>4</td>\n",
       "      <td>1</td>\n",
       "      <td>1</td>\n",
       "      <td>Futrelle, Mrs. Jacques Heath (Lily May Peel)</td>\n",
       "      <td>female</td>\n",
       "      <td>35.0</td>\n",
       "      <td>1</td>\n",
       "      <td>0</td>\n",
       "      <td>113803</td>\n",
       "      <td>53.1000</td>\n",
       "      <td>C123</td>\n",
       "      <td>S</td>\n",
       "    </tr>\n",
       "    <tr>\n",
       "      <th>4</th>\n",
       "      <td>5</td>\n",
       "      <td>0</td>\n",
       "      <td>3</td>\n",
       "      <td>Allen, Mr. William Henry</td>\n",
       "      <td>male</td>\n",
       "      <td>35.0</td>\n",
       "      <td>0</td>\n",
       "      <td>0</td>\n",
       "      <td>373450</td>\n",
       "      <td>8.0500</td>\n",
       "      <td>NaN</td>\n",
       "      <td>S</td>\n",
       "    </tr>\n",
       "  </tbody>\n",
       "</table>\n",
       "</div>"
      ],
      "text/plain": [
       "   PassengerId  Survived  Pclass  \\\n",
       "0            1         0       3   \n",
       "1            2         1       1   \n",
       "2            3         1       3   \n",
       "3            4         1       1   \n",
       "4            5         0       3   \n",
       "\n",
       "                                                Name     Sex   Age  SibSp  \\\n",
       "0                            Braund, Mr. Owen Harris    male  22.0      1   \n",
       "1  Cumings, Mrs. John Bradley (Florence Briggs Th...  female  38.0      1   \n",
       "2                             Heikkinen, Miss. Laina  female  26.0      0   \n",
       "3       Futrelle, Mrs. Jacques Heath (Lily May Peel)  female  35.0      1   \n",
       "4                           Allen, Mr. William Henry    male  35.0      0   \n",
       "\n",
       "   Parch            Ticket     Fare Cabin Embarked  \n",
       "0      0         A/5 21171   7.2500   NaN        S  \n",
       "1      0          PC 17599  71.2833   C85        C  \n",
       "2      0  STON/O2. 3101282   7.9250   NaN        S  \n",
       "3      0            113803  53.1000  C123        S  \n",
       "4      0            373450   8.0500   NaN        S  "
      ]
     },
     "execution_count": 3,
     "metadata": {},
     "output_type": "execute_result"
    }
   ],
   "source": [
    "# import train data\n",
    "\n",
    "train_df = pd.read_csv('/kaggle/input/titanic/train.csv')\n",
    "test_df = pd.read_csv('/kaggle/input/titanic/test.csv')\n",
    "train_df.head()"
   ]
  },
  {
   "cell_type": "code",
   "execution_count": 4,
   "id": "6ac10ce0",
   "metadata": {
    "execution": {
     "iopub.execute_input": "2021-09-14T16:12:13.007388Z",
     "iopub.status.busy": "2021-09-14T16:12:13.006690Z",
     "iopub.status.idle": "2021-09-14T16:12:13.013121Z",
     "shell.execute_reply": "2021-09-14T16:12:13.012179Z",
     "shell.execute_reply.started": "2021-09-14T14:16:55.496609Z"
    },
    "papermill": {
     "duration": 0.043668,
     "end_time": "2021-09-14T16:12:13.013317",
     "exception": false,
     "start_time": "2021-09-14T16:12:12.969649",
     "status": "completed"
    },
    "tags": []
   },
   "outputs": [
    {
     "data": {
      "text/plain": [
       "PassengerId      0\n",
       "Survived         0\n",
       "Pclass           0\n",
       "Name             0\n",
       "Sex              0\n",
       "Age            177\n",
       "SibSp            0\n",
       "Parch            0\n",
       "Ticket           0\n",
       "Fare             0\n",
       "Cabin          687\n",
       "Embarked         2\n",
       "dtype: int64"
      ]
     },
     "execution_count": 4,
     "metadata": {},
     "output_type": "execute_result"
    }
   ],
   "source": [
    "# check for null value\n",
    "\n",
    "train_df.isnull().sum()"
   ]
  },
  {
   "cell_type": "code",
   "execution_count": 5,
   "id": "020f36e8",
   "metadata": {
    "execution": {
     "iopub.execute_input": "2021-09-14T16:12:13.078989Z",
     "iopub.status.busy": "2021-09-14T16:12:13.078272Z",
     "iopub.status.idle": "2021-09-14T16:12:13.085355Z",
     "shell.execute_reply": "2021-09-14T16:12:13.085875Z",
     "shell.execute_reply.started": "2021-09-14T14:16:56.795671Z"
    },
    "papermill": {
     "duration": 0.040164,
     "end_time": "2021-09-14T16:12:13.086077",
     "exception": false,
     "start_time": "2021-09-14T16:12:13.045913",
     "status": "completed"
    },
    "tags": []
   },
   "outputs": [
    {
     "data": {
      "text/plain": [
       "PassengerId      0\n",
       "Pclass           0\n",
       "Name             0\n",
       "Sex              0\n",
       "Age             86\n",
       "SibSp            0\n",
       "Parch            0\n",
       "Ticket           0\n",
       "Fare             1\n",
       "Cabin          327\n",
       "Embarked         0\n",
       "dtype: int64"
      ]
     },
     "execution_count": 5,
     "metadata": {},
     "output_type": "execute_result"
    }
   ],
   "source": [
    "test_df.isnull().sum()"
   ]
  },
  {
   "cell_type": "code",
   "execution_count": 6,
   "id": "40727352",
   "metadata": {
    "execution": {
     "iopub.execute_input": "2021-09-14T16:12:13.150686Z",
     "iopub.status.busy": "2021-09-14T16:12:13.149944Z",
     "iopub.status.idle": "2021-09-14T16:12:13.155547Z",
     "shell.execute_reply": "2021-09-14T16:12:13.156155Z",
     "shell.execute_reply.started": "2021-09-14T14:17:00.291161Z"
    },
    "papermill": {
     "duration": 0.042724,
     "end_time": "2021-09-14T16:12:13.156361",
     "exception": false,
     "start_time": "2021-09-14T16:12:13.113637",
     "status": "completed"
    },
    "tags": []
   },
   "outputs": [],
   "source": [
    "# Fill in missing values for columns 'Age' & 'Embarked'\n",
    "\n",
    "train_df['Age'].fillna(train_df['Age'].median(), inplace=True)\n",
    "test_df['Age'].fillna(train_df['Age'].median(), inplace=True)\n",
    "test_df['Fare'].fillna(test_df['Fare'].median(), inplace=True)"
   ]
  },
  {
   "cell_type": "code",
   "execution_count": 7,
   "id": "b1f6cacf",
   "metadata": {
    "execution": {
     "iopub.execute_input": "2021-09-14T16:12:13.214558Z",
     "iopub.status.busy": "2021-09-14T16:12:13.213834Z",
     "iopub.status.idle": "2021-09-14T16:12:13.222568Z",
     "shell.execute_reply": "2021-09-14T16:12:13.223080Z",
     "shell.execute_reply.started": "2021-09-14T14:17:02.788096Z"
    },
    "papermill": {
     "duration": 0.040193,
     "end_time": "2021-09-14T16:12:13.223268",
     "exception": false,
     "start_time": "2021-09-14T16:12:13.183075",
     "status": "completed"
    },
    "tags": []
   },
   "outputs": [
    {
     "data": {
      "text/plain": [
       "0    S\n",
       "dtype: object"
      ]
     },
     "execution_count": 7,
     "metadata": {},
     "output_type": "execute_result"
    }
   ],
   "source": [
    "train_df.Embarked.mode()"
   ]
  },
  {
   "cell_type": "code",
   "execution_count": 8,
   "id": "17f55dc7",
   "metadata": {
    "execution": {
     "iopub.execute_input": "2021-09-14T16:12:13.282276Z",
     "iopub.status.busy": "2021-09-14T16:12:13.281517Z",
     "iopub.status.idle": "2021-09-14T16:12:13.293852Z",
     "shell.execute_reply": "2021-09-14T16:12:13.293285Z",
     "shell.execute_reply.started": "2021-09-14T14:17:06.425495Z"
    },
    "papermill": {
     "duration": 0.043327,
     "end_time": "2021-09-14T16:12:13.293999",
     "exception": false,
     "start_time": "2021-09-14T16:12:13.250672",
     "status": "completed"
    },
    "tags": []
   },
   "outputs": [
    {
     "data": {
      "text/plain": [
       "PassengerId      0\n",
       "Survived         0\n",
       "Pclass           0\n",
       "Name             0\n",
       "Sex              0\n",
       "Age              0\n",
       "SibSp            0\n",
       "Parch            0\n",
       "Ticket           0\n",
       "Fare             0\n",
       "Cabin          687\n",
       "Embarked         0\n",
       "dtype: int64"
      ]
     },
     "execution_count": 8,
     "metadata": {},
     "output_type": "execute_result"
    }
   ],
   "source": [
    "# Since the most common value in 'Embarked' column is 'S', change all missing values to this\n",
    "\n",
    "most_value = train_df.Embarked.mode().iloc[0]\n",
    "train_df['Embarked'].fillna(most_value, inplace=True)\n",
    "\n",
    "# check for null value again\n",
    "train_df.isnull().sum()"
   ]
  },
  {
   "cell_type": "code",
   "execution_count": 9,
   "id": "d077041b",
   "metadata": {
    "execution": {
     "iopub.execute_input": "2021-09-14T16:12:13.358774Z",
     "iopub.status.busy": "2021-09-14T16:12:13.358034Z",
     "iopub.status.idle": "2021-09-14T16:12:13.361720Z",
     "shell.execute_reply": "2021-09-14T16:12:13.362238Z",
     "shell.execute_reply.started": "2021-09-14T14:17:07.915001Z"
    },
    "papermill": {
     "duration": 0.039934,
     "end_time": "2021-09-14T16:12:13.362408",
     "exception": false,
     "start_time": "2021-09-14T16:12:13.322474",
     "status": "completed"
    },
    "tags": []
   },
   "outputs": [
    {
     "data": {
      "text/plain": [
       "PassengerId      0\n",
       "Pclass           0\n",
       "Name             0\n",
       "Sex              0\n",
       "Age              0\n",
       "SibSp            0\n",
       "Parch            0\n",
       "Ticket           0\n",
       "Fare             0\n",
       "Cabin          327\n",
       "Embarked         0\n",
       "dtype: int64"
      ]
     },
     "execution_count": 9,
     "metadata": {},
     "output_type": "execute_result"
    }
   ],
   "source": [
    "test_df.isnull().sum()"
   ]
  },
  {
   "cell_type": "code",
   "execution_count": 10,
   "id": "2d535f67",
   "metadata": {
    "execution": {
     "iopub.execute_input": "2021-09-14T16:12:13.424194Z",
     "iopub.status.busy": "2021-09-14T16:12:13.423300Z",
     "iopub.status.idle": "2021-09-14T16:12:13.445129Z",
     "shell.execute_reply": "2021-09-14T16:12:13.445586Z",
     "shell.execute_reply.started": "2021-09-14T14:17:09.754464Z"
    },
    "papermill": {
     "duration": 0.056334,
     "end_time": "2021-09-14T16:12:13.445760",
     "exception": false,
     "start_time": "2021-09-14T16:12:13.389426",
     "status": "completed"
    },
    "tags": []
   },
   "outputs": [
    {
     "data": {
      "text/html": [
       "<div>\n",
       "<style scoped>\n",
       "    .dataframe tbody tr th:only-of-type {\n",
       "        vertical-align: middle;\n",
       "    }\n",
       "\n",
       "    .dataframe tbody tr th {\n",
       "        vertical-align: top;\n",
       "    }\n",
       "\n",
       "    .dataframe thead th {\n",
       "        text-align: right;\n",
       "    }\n",
       "</style>\n",
       "<table border=\"1\" class=\"dataframe\">\n",
       "  <thead>\n",
       "    <tr style=\"text-align: right;\">\n",
       "      <th></th>\n",
       "      <th>PassengerId</th>\n",
       "      <th>Pclass</th>\n",
       "      <th>Sex</th>\n",
       "      <th>Age</th>\n",
       "      <th>SibSp</th>\n",
       "      <th>Parch</th>\n",
       "      <th>Fare</th>\n",
       "      <th>Embarked</th>\n",
       "    </tr>\n",
       "  </thead>\n",
       "  <tbody>\n",
       "    <tr>\n",
       "      <th>0</th>\n",
       "      <td>1</td>\n",
       "      <td>3</td>\n",
       "      <td>male</td>\n",
       "      <td>22.0</td>\n",
       "      <td>1</td>\n",
       "      <td>0</td>\n",
       "      <td>7.2500</td>\n",
       "      <td>S</td>\n",
       "    </tr>\n",
       "    <tr>\n",
       "      <th>1</th>\n",
       "      <td>2</td>\n",
       "      <td>1</td>\n",
       "      <td>female</td>\n",
       "      <td>38.0</td>\n",
       "      <td>1</td>\n",
       "      <td>0</td>\n",
       "      <td>71.2833</td>\n",
       "      <td>C</td>\n",
       "    </tr>\n",
       "    <tr>\n",
       "      <th>2</th>\n",
       "      <td>3</td>\n",
       "      <td>3</td>\n",
       "      <td>female</td>\n",
       "      <td>26.0</td>\n",
       "      <td>0</td>\n",
       "      <td>0</td>\n",
       "      <td>7.9250</td>\n",
       "      <td>S</td>\n",
       "    </tr>\n",
       "    <tr>\n",
       "      <th>3</th>\n",
       "      <td>4</td>\n",
       "      <td>1</td>\n",
       "      <td>female</td>\n",
       "      <td>35.0</td>\n",
       "      <td>1</td>\n",
       "      <td>0</td>\n",
       "      <td>53.1000</td>\n",
       "      <td>S</td>\n",
       "    </tr>\n",
       "    <tr>\n",
       "      <th>4</th>\n",
       "      <td>5</td>\n",
       "      <td>3</td>\n",
       "      <td>male</td>\n",
       "      <td>35.0</td>\n",
       "      <td>0</td>\n",
       "      <td>0</td>\n",
       "      <td>8.0500</td>\n",
       "      <td>S</td>\n",
       "    </tr>\n",
       "    <tr>\n",
       "      <th>...</th>\n",
       "      <td>...</td>\n",
       "      <td>...</td>\n",
       "      <td>...</td>\n",
       "      <td>...</td>\n",
       "      <td>...</td>\n",
       "      <td>...</td>\n",
       "      <td>...</td>\n",
       "      <td>...</td>\n",
       "    </tr>\n",
       "    <tr>\n",
       "      <th>886</th>\n",
       "      <td>887</td>\n",
       "      <td>2</td>\n",
       "      <td>male</td>\n",
       "      <td>27.0</td>\n",
       "      <td>0</td>\n",
       "      <td>0</td>\n",
       "      <td>13.0000</td>\n",
       "      <td>S</td>\n",
       "    </tr>\n",
       "    <tr>\n",
       "      <th>887</th>\n",
       "      <td>888</td>\n",
       "      <td>1</td>\n",
       "      <td>female</td>\n",
       "      <td>19.0</td>\n",
       "      <td>0</td>\n",
       "      <td>0</td>\n",
       "      <td>30.0000</td>\n",
       "      <td>S</td>\n",
       "    </tr>\n",
       "    <tr>\n",
       "      <th>888</th>\n",
       "      <td>889</td>\n",
       "      <td>3</td>\n",
       "      <td>female</td>\n",
       "      <td>28.0</td>\n",
       "      <td>1</td>\n",
       "      <td>2</td>\n",
       "      <td>23.4500</td>\n",
       "      <td>S</td>\n",
       "    </tr>\n",
       "    <tr>\n",
       "      <th>889</th>\n",
       "      <td>890</td>\n",
       "      <td>1</td>\n",
       "      <td>male</td>\n",
       "      <td>26.0</td>\n",
       "      <td>0</td>\n",
       "      <td>0</td>\n",
       "      <td>30.0000</td>\n",
       "      <td>C</td>\n",
       "    </tr>\n",
       "    <tr>\n",
       "      <th>890</th>\n",
       "      <td>891</td>\n",
       "      <td>3</td>\n",
       "      <td>male</td>\n",
       "      <td>32.0</td>\n",
       "      <td>0</td>\n",
       "      <td>0</td>\n",
       "      <td>7.7500</td>\n",
       "      <td>Q</td>\n",
       "    </tr>\n",
       "  </tbody>\n",
       "</table>\n",
       "<p>891 rows × 8 columns</p>\n",
       "</div>"
      ],
      "text/plain": [
       "     PassengerId  Pclass     Sex   Age  SibSp  Parch     Fare Embarked\n",
       "0              1       3    male  22.0      1      0   7.2500        S\n",
       "1              2       1  female  38.0      1      0  71.2833        C\n",
       "2              3       3  female  26.0      0      0   7.9250        S\n",
       "3              4       1  female  35.0      1      0  53.1000        S\n",
       "4              5       3    male  35.0      0      0   8.0500        S\n",
       "..           ...     ...     ...   ...    ...    ...      ...      ...\n",
       "886          887       2    male  27.0      0      0  13.0000        S\n",
       "887          888       1  female  19.0      0      0  30.0000        S\n",
       "888          889       3  female  28.0      1      2  23.4500        S\n",
       "889          890       1    male  26.0      0      0  30.0000        C\n",
       "890          891       3    male  32.0      0      0   7.7500        Q\n",
       "\n",
       "[891 rows x 8 columns]"
      ]
     },
     "execution_count": 10,
     "metadata": {},
     "output_type": "execute_result"
    }
   ],
   "source": [
    "# Let's remove insignificant features 'Name', 'Cabin' & 'Ticket' and extract the 'Survived' column\n",
    "\n",
    "train_y = train_df['Survived']\n",
    "\n",
    "train_df.drop(['Name', 'Ticket', 'Cabin', 'Survived'], axis=1, inplace=True)\n",
    "test_df.drop(['Name', 'Ticket', 'Cabin'], axis=1, inplace=True)\n",
    "train_df"
   ]
  },
  {
   "cell_type": "code",
   "execution_count": 11,
   "id": "cc004694",
   "metadata": {
    "execution": {
     "iopub.execute_input": "2021-09-14T16:12:13.525505Z",
     "iopub.status.busy": "2021-09-14T16:12:13.524557Z",
     "iopub.status.idle": "2021-09-14T16:12:13.529699Z",
     "shell.execute_reply": "2021-09-14T16:12:13.529162Z",
     "shell.execute_reply.started": "2021-09-14T14:17:33.201964Z"
    },
    "papermill": {
     "duration": 0.055584,
     "end_time": "2021-09-14T16:12:13.529859",
     "exception": false,
     "start_time": "2021-09-14T16:12:13.474275",
     "status": "completed"
    },
    "tags": []
   },
   "outputs": [
    {
     "data": {
      "text/html": [
       "<div>\n",
       "<style scoped>\n",
       "    .dataframe tbody tr th:only-of-type {\n",
       "        vertical-align: middle;\n",
       "    }\n",
       "\n",
       "    .dataframe tbody tr th {\n",
       "        vertical-align: top;\n",
       "    }\n",
       "\n",
       "    .dataframe thead th {\n",
       "        text-align: right;\n",
       "    }\n",
       "</style>\n",
       "<table border=\"1\" class=\"dataframe\">\n",
       "  <thead>\n",
       "    <tr style=\"text-align: right;\">\n",
       "      <th></th>\n",
       "      <th>PassengerId</th>\n",
       "      <th>Pclass</th>\n",
       "      <th>Sex</th>\n",
       "      <th>Age</th>\n",
       "      <th>SibSp</th>\n",
       "      <th>Parch</th>\n",
       "      <th>Fare</th>\n",
       "      <th>Embarked</th>\n",
       "    </tr>\n",
       "  </thead>\n",
       "  <tbody>\n",
       "    <tr>\n",
       "      <th>0</th>\n",
       "      <td>892</td>\n",
       "      <td>3</td>\n",
       "      <td>male</td>\n",
       "      <td>34.5</td>\n",
       "      <td>0</td>\n",
       "      <td>0</td>\n",
       "      <td>7.8292</td>\n",
       "      <td>Q</td>\n",
       "    </tr>\n",
       "    <tr>\n",
       "      <th>1</th>\n",
       "      <td>893</td>\n",
       "      <td>3</td>\n",
       "      <td>female</td>\n",
       "      <td>47.0</td>\n",
       "      <td>1</td>\n",
       "      <td>0</td>\n",
       "      <td>7.0000</td>\n",
       "      <td>S</td>\n",
       "    </tr>\n",
       "    <tr>\n",
       "      <th>2</th>\n",
       "      <td>894</td>\n",
       "      <td>2</td>\n",
       "      <td>male</td>\n",
       "      <td>62.0</td>\n",
       "      <td>0</td>\n",
       "      <td>0</td>\n",
       "      <td>9.6875</td>\n",
       "      <td>Q</td>\n",
       "    </tr>\n",
       "    <tr>\n",
       "      <th>3</th>\n",
       "      <td>895</td>\n",
       "      <td>3</td>\n",
       "      <td>male</td>\n",
       "      <td>27.0</td>\n",
       "      <td>0</td>\n",
       "      <td>0</td>\n",
       "      <td>8.6625</td>\n",
       "      <td>S</td>\n",
       "    </tr>\n",
       "    <tr>\n",
       "      <th>4</th>\n",
       "      <td>896</td>\n",
       "      <td>3</td>\n",
       "      <td>female</td>\n",
       "      <td>22.0</td>\n",
       "      <td>1</td>\n",
       "      <td>1</td>\n",
       "      <td>12.2875</td>\n",
       "      <td>S</td>\n",
       "    </tr>\n",
       "    <tr>\n",
       "      <th>...</th>\n",
       "      <td>...</td>\n",
       "      <td>...</td>\n",
       "      <td>...</td>\n",
       "      <td>...</td>\n",
       "      <td>...</td>\n",
       "      <td>...</td>\n",
       "      <td>...</td>\n",
       "      <td>...</td>\n",
       "    </tr>\n",
       "    <tr>\n",
       "      <th>413</th>\n",
       "      <td>1305</td>\n",
       "      <td>3</td>\n",
       "      <td>male</td>\n",
       "      <td>28.0</td>\n",
       "      <td>0</td>\n",
       "      <td>0</td>\n",
       "      <td>8.0500</td>\n",
       "      <td>S</td>\n",
       "    </tr>\n",
       "    <tr>\n",
       "      <th>414</th>\n",
       "      <td>1306</td>\n",
       "      <td>1</td>\n",
       "      <td>female</td>\n",
       "      <td>39.0</td>\n",
       "      <td>0</td>\n",
       "      <td>0</td>\n",
       "      <td>108.9000</td>\n",
       "      <td>C</td>\n",
       "    </tr>\n",
       "    <tr>\n",
       "      <th>415</th>\n",
       "      <td>1307</td>\n",
       "      <td>3</td>\n",
       "      <td>male</td>\n",
       "      <td>38.5</td>\n",
       "      <td>0</td>\n",
       "      <td>0</td>\n",
       "      <td>7.2500</td>\n",
       "      <td>S</td>\n",
       "    </tr>\n",
       "    <tr>\n",
       "      <th>416</th>\n",
       "      <td>1308</td>\n",
       "      <td>3</td>\n",
       "      <td>male</td>\n",
       "      <td>28.0</td>\n",
       "      <td>0</td>\n",
       "      <td>0</td>\n",
       "      <td>8.0500</td>\n",
       "      <td>S</td>\n",
       "    </tr>\n",
       "    <tr>\n",
       "      <th>417</th>\n",
       "      <td>1309</td>\n",
       "      <td>3</td>\n",
       "      <td>male</td>\n",
       "      <td>28.0</td>\n",
       "      <td>1</td>\n",
       "      <td>1</td>\n",
       "      <td>22.3583</td>\n",
       "      <td>C</td>\n",
       "    </tr>\n",
       "  </tbody>\n",
       "</table>\n",
       "<p>418 rows × 8 columns</p>\n",
       "</div>"
      ],
      "text/plain": [
       "     PassengerId  Pclass     Sex   Age  SibSp  Parch      Fare Embarked\n",
       "0            892       3    male  34.5      0      0    7.8292        Q\n",
       "1            893       3  female  47.0      1      0    7.0000        S\n",
       "2            894       2    male  62.0      0      0    9.6875        Q\n",
       "3            895       3    male  27.0      0      0    8.6625        S\n",
       "4            896       3  female  22.0      1      1   12.2875        S\n",
       "..           ...     ...     ...   ...    ...    ...       ...      ...\n",
       "413         1305       3    male  28.0      0      0    8.0500        S\n",
       "414         1306       1  female  39.0      0      0  108.9000        C\n",
       "415         1307       3    male  38.5      0      0    7.2500        S\n",
       "416         1308       3    male  28.0      0      0    8.0500        S\n",
       "417         1309       3    male  28.0      1      1   22.3583        C\n",
       "\n",
       "[418 rows x 8 columns]"
      ]
     },
     "execution_count": 11,
     "metadata": {},
     "output_type": "execute_result"
    }
   ],
   "source": [
    "test_df"
   ]
  },
  {
   "cell_type": "code",
   "execution_count": 12,
   "id": "77030b54",
   "metadata": {
    "execution": {
     "iopub.execute_input": "2021-09-14T16:12:13.594659Z",
     "iopub.status.busy": "2021-09-14T16:12:13.593977Z",
     "iopub.status.idle": "2021-09-14T16:12:13.785430Z",
     "shell.execute_reply": "2021-09-14T16:12:13.785927Z",
     "shell.execute_reply.started": "2021-09-14T14:20:56.612928Z"
    },
    "papermill": {
     "duration": 0.226496,
     "end_time": "2021-09-14T16:12:13.786123",
     "exception": false,
     "start_time": "2021-09-14T16:12:13.559627",
     "status": "completed"
    },
    "tags": []
   },
   "outputs": [
    {
     "data": {
      "text/html": [
       "<div>\n",
       "<style scoped>\n",
       "    .dataframe tbody tr th:only-of-type {\n",
       "        vertical-align: middle;\n",
       "    }\n",
       "\n",
       "    .dataframe tbody tr th {\n",
       "        vertical-align: top;\n",
       "    }\n",
       "\n",
       "    .dataframe thead th {\n",
       "        text-align: right;\n",
       "    }\n",
       "</style>\n",
       "<table border=\"1\" class=\"dataframe\">\n",
       "  <thead>\n",
       "    <tr style=\"text-align: right;\">\n",
       "      <th></th>\n",
       "      <th>PassengerId</th>\n",
       "      <th>Pclass</th>\n",
       "      <th>Sex</th>\n",
       "      <th>Age</th>\n",
       "      <th>SibSp</th>\n",
       "      <th>Parch</th>\n",
       "      <th>Fare</th>\n",
       "      <th>Embarked</th>\n",
       "    </tr>\n",
       "  </thead>\n",
       "  <tbody>\n",
       "    <tr>\n",
       "      <th>0</th>\n",
       "      <td>1</td>\n",
       "      <td>3</td>\n",
       "      <td>1.0</td>\n",
       "      <td>22.0</td>\n",
       "      <td>1</td>\n",
       "      <td>0</td>\n",
       "      <td>7.2500</td>\n",
       "      <td>2.0</td>\n",
       "    </tr>\n",
       "    <tr>\n",
       "      <th>1</th>\n",
       "      <td>2</td>\n",
       "      <td>1</td>\n",
       "      <td>0.0</td>\n",
       "      <td>38.0</td>\n",
       "      <td>1</td>\n",
       "      <td>0</td>\n",
       "      <td>71.2833</td>\n",
       "      <td>0.0</td>\n",
       "    </tr>\n",
       "    <tr>\n",
       "      <th>2</th>\n",
       "      <td>3</td>\n",
       "      <td>3</td>\n",
       "      <td>0.0</td>\n",
       "      <td>26.0</td>\n",
       "      <td>0</td>\n",
       "      <td>0</td>\n",
       "      <td>7.9250</td>\n",
       "      <td>2.0</td>\n",
       "    </tr>\n",
       "    <tr>\n",
       "      <th>3</th>\n",
       "      <td>4</td>\n",
       "      <td>1</td>\n",
       "      <td>0.0</td>\n",
       "      <td>35.0</td>\n",
       "      <td>1</td>\n",
       "      <td>0</td>\n",
       "      <td>53.1000</td>\n",
       "      <td>2.0</td>\n",
       "    </tr>\n",
       "    <tr>\n",
       "      <th>4</th>\n",
       "      <td>5</td>\n",
       "      <td>3</td>\n",
       "      <td>1.0</td>\n",
       "      <td>35.0</td>\n",
       "      <td>0</td>\n",
       "      <td>0</td>\n",
       "      <td>8.0500</td>\n",
       "      <td>2.0</td>\n",
       "    </tr>\n",
       "    <tr>\n",
       "      <th>...</th>\n",
       "      <td>...</td>\n",
       "      <td>...</td>\n",
       "      <td>...</td>\n",
       "      <td>...</td>\n",
       "      <td>...</td>\n",
       "      <td>...</td>\n",
       "      <td>...</td>\n",
       "      <td>...</td>\n",
       "    </tr>\n",
       "    <tr>\n",
       "      <th>886</th>\n",
       "      <td>887</td>\n",
       "      <td>2</td>\n",
       "      <td>1.0</td>\n",
       "      <td>27.0</td>\n",
       "      <td>0</td>\n",
       "      <td>0</td>\n",
       "      <td>13.0000</td>\n",
       "      <td>2.0</td>\n",
       "    </tr>\n",
       "    <tr>\n",
       "      <th>887</th>\n",
       "      <td>888</td>\n",
       "      <td>1</td>\n",
       "      <td>0.0</td>\n",
       "      <td>19.0</td>\n",
       "      <td>0</td>\n",
       "      <td>0</td>\n",
       "      <td>30.0000</td>\n",
       "      <td>2.0</td>\n",
       "    </tr>\n",
       "    <tr>\n",
       "      <th>888</th>\n",
       "      <td>889</td>\n",
       "      <td>3</td>\n",
       "      <td>0.0</td>\n",
       "      <td>28.0</td>\n",
       "      <td>1</td>\n",
       "      <td>2</td>\n",
       "      <td>23.4500</td>\n",
       "      <td>2.0</td>\n",
       "    </tr>\n",
       "    <tr>\n",
       "      <th>889</th>\n",
       "      <td>890</td>\n",
       "      <td>1</td>\n",
       "      <td>1.0</td>\n",
       "      <td>26.0</td>\n",
       "      <td>0</td>\n",
       "      <td>0</td>\n",
       "      <td>30.0000</td>\n",
       "      <td>0.0</td>\n",
       "    </tr>\n",
       "    <tr>\n",
       "      <th>890</th>\n",
       "      <td>891</td>\n",
       "      <td>3</td>\n",
       "      <td>1.0</td>\n",
       "      <td>32.0</td>\n",
       "      <td>0</td>\n",
       "      <td>0</td>\n",
       "      <td>7.7500</td>\n",
       "      <td>1.0</td>\n",
       "    </tr>\n",
       "  </tbody>\n",
       "</table>\n",
       "<p>891 rows × 8 columns</p>\n",
       "</div>"
      ],
      "text/plain": [
       "     PassengerId  Pclass  Sex   Age  SibSp  Parch     Fare  Embarked\n",
       "0              1       3  1.0  22.0      1      0   7.2500       2.0\n",
       "1              2       1  0.0  38.0      1      0  71.2833       0.0\n",
       "2              3       3  0.0  26.0      0      0   7.9250       2.0\n",
       "3              4       1  0.0  35.0      1      0  53.1000       2.0\n",
       "4              5       3  1.0  35.0      0      0   8.0500       2.0\n",
       "..           ...     ...  ...   ...    ...    ...      ...       ...\n",
       "886          887       2  1.0  27.0      0      0  13.0000       2.0\n",
       "887          888       1  0.0  19.0      0      0  30.0000       2.0\n",
       "888          889       3  0.0  28.0      1      2  23.4500       2.0\n",
       "889          890       1  1.0  26.0      0      0  30.0000       0.0\n",
       "890          891       3  1.0  32.0      0      0   7.7500       1.0\n",
       "\n",
       "[891 rows x 8 columns]"
      ]
     },
     "execution_count": 12,
     "metadata": {},
     "output_type": "execute_result"
    }
   ],
   "source": [
    "# As you can see, there are categorical signs in the dataframe that need to be converted to numerical ones. \n",
    "# Since there are not many different options for values in these columns, \n",
    "# I will use the standard OrdinalEncoder.\n",
    "\n",
    "from sklearn.preprocessing import OrdinalEncoder as OE\n",
    "\n",
    "cat = ['Sex', 'Embarked']\n",
    "\n",
    "encoder = OE()\n",
    "encoder.fit(train_df[cat])\n",
    "train_df[cat] = encoder.transform(train_df[cat])\n",
    "test_df[cat] = encoder.transform(test_df[cat])\n",
    "train_df"
   ]
  },
  {
   "cell_type": "code",
   "execution_count": 13,
   "id": "f738550f",
   "metadata": {
    "execution": {
     "iopub.execute_input": "2021-09-14T16:12:13.849392Z",
     "iopub.status.busy": "2021-09-14T16:12:13.848398Z",
     "iopub.status.idle": "2021-09-14T16:12:13.871503Z",
     "shell.execute_reply": "2021-09-14T16:12:13.872113Z",
     "shell.execute_reply.started": "2021-09-14T14:21:21.644336Z"
    },
    "papermill": {
     "duration": 0.056577,
     "end_time": "2021-09-14T16:12:13.872298",
     "exception": false,
     "start_time": "2021-09-14T16:12:13.815721",
     "status": "completed"
    },
    "tags": []
   },
   "outputs": [
    {
     "data": {
      "text/html": [
       "<div>\n",
       "<style scoped>\n",
       "    .dataframe tbody tr th:only-of-type {\n",
       "        vertical-align: middle;\n",
       "    }\n",
       "\n",
       "    .dataframe tbody tr th {\n",
       "        vertical-align: top;\n",
       "    }\n",
       "\n",
       "    .dataframe thead th {\n",
       "        text-align: right;\n",
       "    }\n",
       "</style>\n",
       "<table border=\"1\" class=\"dataframe\">\n",
       "  <thead>\n",
       "    <tr style=\"text-align: right;\">\n",
       "      <th></th>\n",
       "      <th>PassengerId</th>\n",
       "      <th>Pclass</th>\n",
       "      <th>Sex</th>\n",
       "      <th>Age</th>\n",
       "      <th>SibSp</th>\n",
       "      <th>Parch</th>\n",
       "      <th>Fare</th>\n",
       "      <th>Embarked</th>\n",
       "    </tr>\n",
       "  </thead>\n",
       "  <tbody>\n",
       "    <tr>\n",
       "      <th>0</th>\n",
       "      <td>892</td>\n",
       "      <td>3</td>\n",
       "      <td>1.0</td>\n",
       "      <td>34.5</td>\n",
       "      <td>0</td>\n",
       "      <td>0</td>\n",
       "      <td>7.8292</td>\n",
       "      <td>1.0</td>\n",
       "    </tr>\n",
       "    <tr>\n",
       "      <th>1</th>\n",
       "      <td>893</td>\n",
       "      <td>3</td>\n",
       "      <td>0.0</td>\n",
       "      <td>47.0</td>\n",
       "      <td>1</td>\n",
       "      <td>0</td>\n",
       "      <td>7.0000</td>\n",
       "      <td>2.0</td>\n",
       "    </tr>\n",
       "    <tr>\n",
       "      <th>2</th>\n",
       "      <td>894</td>\n",
       "      <td>2</td>\n",
       "      <td>1.0</td>\n",
       "      <td>62.0</td>\n",
       "      <td>0</td>\n",
       "      <td>0</td>\n",
       "      <td>9.6875</td>\n",
       "      <td>1.0</td>\n",
       "    </tr>\n",
       "    <tr>\n",
       "      <th>3</th>\n",
       "      <td>895</td>\n",
       "      <td>3</td>\n",
       "      <td>1.0</td>\n",
       "      <td>27.0</td>\n",
       "      <td>0</td>\n",
       "      <td>0</td>\n",
       "      <td>8.6625</td>\n",
       "      <td>2.0</td>\n",
       "    </tr>\n",
       "    <tr>\n",
       "      <th>4</th>\n",
       "      <td>896</td>\n",
       "      <td>3</td>\n",
       "      <td>0.0</td>\n",
       "      <td>22.0</td>\n",
       "      <td>1</td>\n",
       "      <td>1</td>\n",
       "      <td>12.2875</td>\n",
       "      <td>2.0</td>\n",
       "    </tr>\n",
       "    <tr>\n",
       "      <th>...</th>\n",
       "      <td>...</td>\n",
       "      <td>...</td>\n",
       "      <td>...</td>\n",
       "      <td>...</td>\n",
       "      <td>...</td>\n",
       "      <td>...</td>\n",
       "      <td>...</td>\n",
       "      <td>...</td>\n",
       "    </tr>\n",
       "    <tr>\n",
       "      <th>413</th>\n",
       "      <td>1305</td>\n",
       "      <td>3</td>\n",
       "      <td>1.0</td>\n",
       "      <td>28.0</td>\n",
       "      <td>0</td>\n",
       "      <td>0</td>\n",
       "      <td>8.0500</td>\n",
       "      <td>2.0</td>\n",
       "    </tr>\n",
       "    <tr>\n",
       "      <th>414</th>\n",
       "      <td>1306</td>\n",
       "      <td>1</td>\n",
       "      <td>0.0</td>\n",
       "      <td>39.0</td>\n",
       "      <td>0</td>\n",
       "      <td>0</td>\n",
       "      <td>108.9000</td>\n",
       "      <td>0.0</td>\n",
       "    </tr>\n",
       "    <tr>\n",
       "      <th>415</th>\n",
       "      <td>1307</td>\n",
       "      <td>3</td>\n",
       "      <td>1.0</td>\n",
       "      <td>38.5</td>\n",
       "      <td>0</td>\n",
       "      <td>0</td>\n",
       "      <td>7.2500</td>\n",
       "      <td>2.0</td>\n",
       "    </tr>\n",
       "    <tr>\n",
       "      <th>416</th>\n",
       "      <td>1308</td>\n",
       "      <td>3</td>\n",
       "      <td>1.0</td>\n",
       "      <td>28.0</td>\n",
       "      <td>0</td>\n",
       "      <td>0</td>\n",
       "      <td>8.0500</td>\n",
       "      <td>2.0</td>\n",
       "    </tr>\n",
       "    <tr>\n",
       "      <th>417</th>\n",
       "      <td>1309</td>\n",
       "      <td>3</td>\n",
       "      <td>1.0</td>\n",
       "      <td>28.0</td>\n",
       "      <td>1</td>\n",
       "      <td>1</td>\n",
       "      <td>22.3583</td>\n",
       "      <td>0.0</td>\n",
       "    </tr>\n",
       "  </tbody>\n",
       "</table>\n",
       "<p>418 rows × 8 columns</p>\n",
       "</div>"
      ],
      "text/plain": [
       "     PassengerId  Pclass  Sex   Age  SibSp  Parch      Fare  Embarked\n",
       "0            892       3  1.0  34.5      0      0    7.8292       1.0\n",
       "1            893       3  0.0  47.0      1      0    7.0000       2.0\n",
       "2            894       2  1.0  62.0      0      0    9.6875       1.0\n",
       "3            895       3  1.0  27.0      0      0    8.6625       2.0\n",
       "4            896       3  0.0  22.0      1      1   12.2875       2.0\n",
       "..           ...     ...  ...   ...    ...    ...       ...       ...\n",
       "413         1305       3  1.0  28.0      0      0    8.0500       2.0\n",
       "414         1306       1  0.0  39.0      0      0  108.9000       0.0\n",
       "415         1307       3  1.0  38.5      0      0    7.2500       2.0\n",
       "416         1308       3  1.0  28.0      0      0    8.0500       2.0\n",
       "417         1309       3  1.0  28.0      1      1   22.3583       0.0\n",
       "\n",
       "[418 rows x 8 columns]"
      ]
     },
     "execution_count": 13,
     "metadata": {},
     "output_type": "execute_result"
    }
   ],
   "source": [
    "test_df"
   ]
  },
  {
   "cell_type": "code",
   "execution_count": 14,
   "id": "1b1ffd27",
   "metadata": {
    "execution": {
     "iopub.execute_input": "2021-09-14T16:12:13.939002Z",
     "iopub.status.busy": "2021-09-14T16:12:13.938315Z",
     "iopub.status.idle": "2021-09-14T16:12:13.962108Z",
     "shell.execute_reply": "2021-09-14T16:12:13.962615Z",
     "shell.execute_reply.started": "2021-09-14T14:23:43.371364Z"
    },
    "papermill": {
     "duration": 0.060233,
     "end_time": "2021-09-14T16:12:13.962794",
     "exception": false,
     "start_time": "2021-09-14T16:12:13.902561",
     "status": "completed"
    },
    "tags": []
   },
   "outputs": [
    {
     "data": {
      "text/html": [
       "<div>\n",
       "<style scoped>\n",
       "    .dataframe tbody tr th:only-of-type {\n",
       "        vertical-align: middle;\n",
       "    }\n",
       "\n",
       "    .dataframe tbody tr th {\n",
       "        vertical-align: top;\n",
       "    }\n",
       "\n",
       "    .dataframe thead th {\n",
       "        text-align: right;\n",
       "    }\n",
       "</style>\n",
       "<table border=\"1\" class=\"dataframe\">\n",
       "  <thead>\n",
       "    <tr style=\"text-align: right;\">\n",
       "      <th></th>\n",
       "      <th>Pclass</th>\n",
       "      <th>Sex</th>\n",
       "      <th>Age</th>\n",
       "      <th>SibSp</th>\n",
       "      <th>Parch</th>\n",
       "      <th>Fare</th>\n",
       "      <th>Embarked</th>\n",
       "    </tr>\n",
       "  </thead>\n",
       "  <tbody>\n",
       "    <tr>\n",
       "      <th>0</th>\n",
       "      <td>3</td>\n",
       "      <td>1.0</td>\n",
       "      <td>22.0</td>\n",
       "      <td>1</td>\n",
       "      <td>0</td>\n",
       "      <td>7.2500</td>\n",
       "      <td>2.0</td>\n",
       "    </tr>\n",
       "    <tr>\n",
       "      <th>1</th>\n",
       "      <td>1</td>\n",
       "      <td>0.0</td>\n",
       "      <td>38.0</td>\n",
       "      <td>1</td>\n",
       "      <td>0</td>\n",
       "      <td>71.2833</td>\n",
       "      <td>0.0</td>\n",
       "    </tr>\n",
       "    <tr>\n",
       "      <th>2</th>\n",
       "      <td>3</td>\n",
       "      <td>0.0</td>\n",
       "      <td>26.0</td>\n",
       "      <td>0</td>\n",
       "      <td>0</td>\n",
       "      <td>7.9250</td>\n",
       "      <td>2.0</td>\n",
       "    </tr>\n",
       "    <tr>\n",
       "      <th>3</th>\n",
       "      <td>1</td>\n",
       "      <td>0.0</td>\n",
       "      <td>35.0</td>\n",
       "      <td>1</td>\n",
       "      <td>0</td>\n",
       "      <td>53.1000</td>\n",
       "      <td>2.0</td>\n",
       "    </tr>\n",
       "    <tr>\n",
       "      <th>4</th>\n",
       "      <td>3</td>\n",
       "      <td>1.0</td>\n",
       "      <td>35.0</td>\n",
       "      <td>0</td>\n",
       "      <td>0</td>\n",
       "      <td>8.0500</td>\n",
       "      <td>2.0</td>\n",
       "    </tr>\n",
       "    <tr>\n",
       "      <th>...</th>\n",
       "      <td>...</td>\n",
       "      <td>...</td>\n",
       "      <td>...</td>\n",
       "      <td>...</td>\n",
       "      <td>...</td>\n",
       "      <td>...</td>\n",
       "      <td>...</td>\n",
       "    </tr>\n",
       "    <tr>\n",
       "      <th>886</th>\n",
       "      <td>2</td>\n",
       "      <td>1.0</td>\n",
       "      <td>27.0</td>\n",
       "      <td>0</td>\n",
       "      <td>0</td>\n",
       "      <td>13.0000</td>\n",
       "      <td>2.0</td>\n",
       "    </tr>\n",
       "    <tr>\n",
       "      <th>887</th>\n",
       "      <td>1</td>\n",
       "      <td>0.0</td>\n",
       "      <td>19.0</td>\n",
       "      <td>0</td>\n",
       "      <td>0</td>\n",
       "      <td>30.0000</td>\n",
       "      <td>2.0</td>\n",
       "    </tr>\n",
       "    <tr>\n",
       "      <th>888</th>\n",
       "      <td>3</td>\n",
       "      <td>0.0</td>\n",
       "      <td>28.0</td>\n",
       "      <td>1</td>\n",
       "      <td>2</td>\n",
       "      <td>23.4500</td>\n",
       "      <td>2.0</td>\n",
       "    </tr>\n",
       "    <tr>\n",
       "      <th>889</th>\n",
       "      <td>1</td>\n",
       "      <td>1.0</td>\n",
       "      <td>26.0</td>\n",
       "      <td>0</td>\n",
       "      <td>0</td>\n",
       "      <td>30.0000</td>\n",
       "      <td>0.0</td>\n",
       "    </tr>\n",
       "    <tr>\n",
       "      <th>890</th>\n",
       "      <td>3</td>\n",
       "      <td>1.0</td>\n",
       "      <td>32.0</td>\n",
       "      <td>0</td>\n",
       "      <td>0</td>\n",
       "      <td>7.7500</td>\n",
       "      <td>1.0</td>\n",
       "    </tr>\n",
       "  </tbody>\n",
       "</table>\n",
       "<p>891 rows × 7 columns</p>\n",
       "</div>"
      ],
      "text/plain": [
       "     Pclass  Sex   Age  SibSp  Parch     Fare  Embarked\n",
       "0         3  1.0  22.0      1      0   7.2500       2.0\n",
       "1         1  0.0  38.0      1      0  71.2833       0.0\n",
       "2         3  0.0  26.0      0      0   7.9250       2.0\n",
       "3         1  0.0  35.0      1      0  53.1000       2.0\n",
       "4         3  1.0  35.0      0      0   8.0500       2.0\n",
       "..      ...  ...   ...    ...    ...      ...       ...\n",
       "886       2  1.0  27.0      0      0  13.0000       2.0\n",
       "887       1  0.0  19.0      0      0  30.0000       2.0\n",
       "888       3  0.0  28.0      1      2  23.4500       2.0\n",
       "889       1  1.0  26.0      0      0  30.0000       0.0\n",
       "890       3  1.0  32.0      0      0   7.7500       1.0\n",
       "\n",
       "[891 rows x 7 columns]"
      ]
     },
     "execution_count": 14,
     "metadata": {},
     "output_type": "execute_result"
    }
   ],
   "source": [
    "df = train_df.drop(['PassengerId'], axis=1)\n",
    "df"
   ]
  },
  {
   "cell_type": "code",
   "execution_count": 15,
   "id": "55d85369",
   "metadata": {
    "execution": {
     "iopub.execute_input": "2021-09-14T16:12:14.030284Z",
     "iopub.status.busy": "2021-09-14T16:12:14.029480Z",
     "iopub.status.idle": "2021-09-14T16:12:14.105198Z",
     "shell.execute_reply": "2021-09-14T16:12:14.104434Z",
     "shell.execute_reply.started": "2021-09-14T14:26:09.867239Z"
    },
    "papermill": {
     "duration": 0.109836,
     "end_time": "2021-09-14T16:12:14.105356",
     "exception": false,
     "start_time": "2021-09-14T16:12:13.995520",
     "status": "completed"
    },
    "tags": []
   },
   "outputs": [],
   "source": [
    "from sklearn.model_selection import train_test_split\n",
    "\n",
    "X_train, X_test, y_train, y_test = train_test_split(df, train_y, train_size=0.7, \n",
    "                                                    test_size=0.3, random_state=0)"
   ]
  },
  {
   "cell_type": "code",
   "execution_count": 16,
   "id": "e69ebcba",
   "metadata": {
    "execution": {
     "iopub.execute_input": "2021-09-14T16:12:14.175409Z",
     "iopub.status.busy": "2021-09-14T16:12:14.174632Z",
     "iopub.status.idle": "2021-09-14T16:12:16.797966Z",
     "shell.execute_reply": "2021-09-14T16:12:16.798657Z",
     "shell.execute_reply.started": "2021-09-14T14:26:10.702386Z"
    },
    "papermill": {
     "duration": 2.660939,
     "end_time": "2021-09-14T16:12:16.798916",
     "exception": false,
     "start_time": "2021-09-14T16:12:14.137977",
     "status": "completed"
    },
    "tags": []
   },
   "outputs": [
    {
     "name": "stdout",
     "output_type": "stream",
     "text": [
      "0.8283582089552238\n"
     ]
    }
   ],
   "source": [
    "# Let's train several models to understand which model has the best quality\n",
    "\n",
    "from sklearn.metrics import accuracy_score\n",
    "from sklearn.ensemble import RandomForestClassifier\n",
    "\n",
    "clf0 = RandomForestClassifier(n_estimators=1000, \n",
    "                              random_state=0)\n",
    "clf0.fit(X_train, y_train)\n",
    "predict0 = clf0.predict(X_test)\n",
    "\n",
    "print(accuracy_score(y_test, predict0))"
   ]
  },
  {
   "cell_type": "code",
   "execution_count": 17,
   "id": "cd6d23b0",
   "metadata": {
    "execution": {
     "iopub.execute_input": "2021-09-14T16:12:16.873197Z",
     "iopub.status.busy": "2021-09-14T16:12:16.872395Z",
     "iopub.status.idle": "2021-09-14T16:12:16.883183Z",
     "shell.execute_reply": "2021-09-14T16:12:16.882451Z",
     "shell.execute_reply.started": "2021-09-14T14:26:15.809930Z"
    },
    "papermill": {
     "duration": 0.053195,
     "end_time": "2021-09-14T16:12:16.883341",
     "exception": false,
     "start_time": "2021-09-14T16:12:16.830146",
     "status": "completed"
    },
    "tags": []
   },
   "outputs": [
    {
     "name": "stdout",
     "output_type": "stream",
     "text": [
      "0.7798507462686567\n"
     ]
    }
   ],
   "source": [
    "from sklearn.tree import DecisionTreeClassifier\n",
    "clf1 = DecisionTreeClassifier(random_state=0,\n",
    "                              max_leaf_nodes=100,\n",
    "                              max_depth=100)\n",
    "clf1.fit(X_train, y_train)\n",
    "predict1 = clf1.predict(X_test)\n",
    "\n",
    "print(accuracy_score(y_test, predict1))"
   ]
  },
  {
   "cell_type": "code",
   "execution_count": 18,
   "id": "9d8c23f4",
   "metadata": {
    "execution": {
     "iopub.execute_input": "2021-09-14T16:12:16.951784Z",
     "iopub.status.busy": "2021-09-14T16:12:16.951037Z",
     "iopub.status.idle": "2021-09-14T16:12:17.332187Z",
     "shell.execute_reply": "2021-09-14T16:12:17.332811Z",
     "shell.execute_reply.started": "2021-09-14T14:26:17.041951Z"
    },
    "papermill": {
     "duration": 0.418768,
     "end_time": "2021-09-14T16:12:17.333051",
     "exception": false,
     "start_time": "2021-09-14T16:12:16.914283",
     "status": "completed"
    },
    "tags": []
   },
   "outputs": [
    {
     "name": "stdout",
     "output_type": "stream",
     "text": [
      "[16:12:17] WARNING: ../src/learner.cc:1095: Starting in XGBoost 1.3.0, the default evaluation metric used with the objective 'binary:logistic' was changed from 'error' to 'logloss'. Explicitly set eval_metric if you'd like to restore the old behavior.\n"
     ]
    },
    {
     "name": "stderr",
     "output_type": "stream",
     "text": [
      "/opt/conda/lib/python3.7/site-packages/xgboost/sklearn.py:1146: UserWarning: The use of label encoder in XGBClassifier is deprecated and will be removed in a future release. To remove this warning, do the following: 1) Pass option use_label_encoder=False when constructing XGBClassifier object; and 2) Encode your labels (y) as integers starting with 0, i.e. 0, 1, 2, ..., [num_class - 1].\n",
      "  warnings.warn(label_encoder_deprecation_msg, UserWarning)\n"
     ]
    },
    {
     "name": "stdout",
     "output_type": "stream",
     "text": [
      "0.8171641791044776\n"
     ]
    }
   ],
   "source": [
    "import xgboost as xgb\n",
    "clf2 = xgb.XGBClassifier(learning_rate=0.1,\n",
    "                         n_estimators= 200,\n",
    "                         objective= 'binary:logistic',\n",
    "                         max_depth= 2000)\n",
    "\n",
    "clf2.fit(X_train, y_train)\n",
    "predict2 = clf2.predict(X_test)\n",
    "\n",
    "print(accuracy_score(y_test, predict2))"
   ]
  },
  {
   "cell_type": "code",
   "execution_count": 19,
   "id": "8c5d004f",
   "metadata": {
    "execution": {
     "iopub.execute_input": "2021-09-14T16:12:17.407301Z",
     "iopub.status.busy": "2021-09-14T16:12:17.406418Z",
     "iopub.status.idle": "2021-09-14T16:12:17.410918Z",
     "shell.execute_reply": "2021-09-14T16:12:17.410418Z",
     "shell.execute_reply.started": "2021-09-14T15:36:12.214998Z"
    },
    "papermill": {
     "duration": 0.043556,
     "end_time": "2021-09-14T16:12:17.411074",
     "exception": false,
     "start_time": "2021-09-14T16:12:17.367518",
     "status": "completed"
    },
    "tags": []
   },
   "outputs": [
    {
     "data": {
      "text/plain": [
       "dict_keys(['bootstrap', 'ccp_alpha', 'class_weight', 'criterion', 'max_depth', 'max_features', 'max_leaf_nodes', 'max_samples', 'min_impurity_decrease', 'min_impurity_split', 'min_samples_leaf', 'min_samples_split', 'min_weight_fraction_leaf', 'n_estimators', 'n_jobs', 'oob_score', 'random_state', 'verbose', 'warm_start'])"
      ]
     },
     "execution_count": 19,
     "metadata": {},
     "output_type": "execute_result"
    }
   ],
   "source": [
    "# It can be seen that Random Forest has the highest accuracy score.\n",
    "# Let's try to improve the quality using a grid of parameters.\n",
    "\n",
    "clssifier = RandomForestClassifier(random_state=0)\n",
    "clssifier.get_params().keys()"
   ]
  },
  {
   "cell_type": "code",
   "execution_count": 20,
   "id": "98873124",
   "metadata": {
    "execution": {
     "iopub.execute_input": "2021-09-14T16:12:17.483012Z",
     "iopub.status.busy": "2021-09-14T16:12:17.482286Z",
     "iopub.status.idle": "2021-09-14T16:23:30.412576Z",
     "shell.execute_reply": "2021-09-14T16:23:30.413158Z",
     "shell.execute_reply.started": "2021-09-14T15:39:01.437743Z"
    },
    "papermill": {
     "duration": 672.970256,
     "end_time": "2021-09-14T16:23:30.413523",
     "exception": false,
     "start_time": "2021-09-14T16:12:17.443267",
     "status": "completed"
    },
    "tags": []
   },
   "outputs": [
    {
     "data": {
      "text/plain": [
       "GridSearchCV(cv=5, estimator=RandomForestClassifier(random_state=0),\n",
       "             param_grid={'criterion': ['gini', 'entropy'],\n",
       "                         'max_depth': [6, 7, 8, 10],\n",
       "                         'max_features': ['auto', 'sqrt', 'log2'],\n",
       "                         'n_estimators': [200, 300, 400, 500, 1000]})"
      ]
     },
     "execution_count": 20,
     "metadata": {},
     "output_type": "execute_result"
    }
   ],
   "source": [
    "from sklearn.model_selection import GridSearchCV\n",
    "\n",
    "param_grid = { \n",
    "    'n_estimators': [200, 300, 400, 500, 1000],\n",
    "    'max_features': ['auto', 'sqrt', 'log2'],\n",
    "    'max_depth' : [6, 7, 8, 10],\n",
    "    'criterion' : ['gini', 'entropy']\n",
    "}\n",
    "\n",
    "clf_cv = GridSearchCV(estimator=clssifier, param_grid=param_grid, cv=5)\n",
    "clf_cv.fit(df, train_y) "
   ]
  },
  {
   "cell_type": "code",
   "execution_count": 21,
   "id": "3da6c9e0",
   "metadata": {
    "execution": {
     "iopub.execute_input": "2021-09-14T16:23:30.486314Z",
     "iopub.status.busy": "2021-09-14T16:23:30.485366Z",
     "iopub.status.idle": "2021-09-14T16:23:30.489890Z",
     "shell.execute_reply": "2021-09-14T16:23:30.489307Z",
     "shell.execute_reply.started": "2021-09-14T15:50:11.484143Z"
    },
    "papermill": {
     "duration": 0.043159,
     "end_time": "2021-09-14T16:23:30.490074",
     "exception": false,
     "start_time": "2021-09-14T16:23:30.446915",
     "status": "completed"
    },
    "tags": []
   },
   "outputs": [
    {
     "data": {
      "text/plain": [
       "{'criterion': 'entropy',\n",
       " 'max_depth': 10,\n",
       " 'max_features': 'auto',\n",
       " 'n_estimators': 300}"
      ]
     },
     "execution_count": 21,
     "metadata": {},
     "output_type": "execute_result"
    }
   ],
   "source": [
    "clf_cv.best_params_"
   ]
  },
  {
   "cell_type": "code",
   "execution_count": 22,
   "id": "03f9e515",
   "metadata": {
    "execution": {
     "iopub.execute_input": "2021-09-14T16:23:30.561781Z",
     "iopub.status.busy": "2021-09-14T16:23:30.561051Z",
     "iopub.status.idle": "2021-09-14T16:23:30.565428Z",
     "shell.execute_reply": "2021-09-14T16:23:30.564779Z",
     "shell.execute_reply.started": "2021-09-14T15:50:24.801971Z"
    },
    "papermill": {
     "duration": 0.042741,
     "end_time": "2021-09-14T16:23:30.565566",
     "exception": false,
     "start_time": "2021-09-14T16:23:30.522825",
     "status": "completed"
    },
    "tags": []
   },
   "outputs": [
    {
     "data": {
      "text/plain": [
       "0.8350260498399347"
      ]
     },
     "execution_count": 22,
     "metadata": {},
     "output_type": "execute_result"
    }
   ],
   "source": [
    "clf_cv.best_score_"
   ]
  },
  {
   "cell_type": "code",
   "execution_count": 23,
   "id": "8cb593d0",
   "metadata": {
    "execution": {
     "iopub.execute_input": "2021-09-14T16:23:30.655320Z",
     "iopub.status.busy": "2021-09-14T16:23:30.646969Z",
     "iopub.status.idle": "2021-09-14T16:23:30.661054Z",
     "shell.execute_reply": "2021-09-14T16:23:30.660384Z",
     "shell.execute_reply.started": "2021-09-14T15:53:23.510374Z"
    },
    "papermill": {
     "duration": 0.062608,
     "end_time": "2021-09-14T16:23:30.661210",
     "exception": false,
     "start_time": "2021-09-14T16:23:30.598602",
     "status": "completed"
    },
    "tags": []
   },
   "outputs": [
    {
     "data": {
      "text/html": [
       "<div>\n",
       "<style scoped>\n",
       "    .dataframe tbody tr th:only-of-type {\n",
       "        vertical-align: middle;\n",
       "    }\n",
       "\n",
       "    .dataframe tbody tr th {\n",
       "        vertical-align: top;\n",
       "    }\n",
       "\n",
       "    .dataframe thead th {\n",
       "        text-align: right;\n",
       "    }\n",
       "</style>\n",
       "<table border=\"1\" class=\"dataframe\">\n",
       "  <thead>\n",
       "    <tr style=\"text-align: right;\">\n",
       "      <th></th>\n",
       "      <th>PassengerId</th>\n",
       "      <th>Pclass</th>\n",
       "      <th>Sex</th>\n",
       "      <th>Age</th>\n",
       "      <th>SibSp</th>\n",
       "      <th>Parch</th>\n",
       "      <th>Fare</th>\n",
       "      <th>Embarked</th>\n",
       "    </tr>\n",
       "  </thead>\n",
       "  <tbody>\n",
       "    <tr>\n",
       "      <th>0</th>\n",
       "      <td>892</td>\n",
       "      <td>3</td>\n",
       "      <td>1.0</td>\n",
       "      <td>34.5</td>\n",
       "      <td>0</td>\n",
       "      <td>0</td>\n",
       "      <td>7.8292</td>\n",
       "      <td>1.0</td>\n",
       "    </tr>\n",
       "    <tr>\n",
       "      <th>1</th>\n",
       "      <td>893</td>\n",
       "      <td>3</td>\n",
       "      <td>0.0</td>\n",
       "      <td>47.0</td>\n",
       "      <td>1</td>\n",
       "      <td>0</td>\n",
       "      <td>7.0000</td>\n",
       "      <td>2.0</td>\n",
       "    </tr>\n",
       "    <tr>\n",
       "      <th>2</th>\n",
       "      <td>894</td>\n",
       "      <td>2</td>\n",
       "      <td>1.0</td>\n",
       "      <td>62.0</td>\n",
       "      <td>0</td>\n",
       "      <td>0</td>\n",
       "      <td>9.6875</td>\n",
       "      <td>1.0</td>\n",
       "    </tr>\n",
       "    <tr>\n",
       "      <th>3</th>\n",
       "      <td>895</td>\n",
       "      <td>3</td>\n",
       "      <td>1.0</td>\n",
       "      <td>27.0</td>\n",
       "      <td>0</td>\n",
       "      <td>0</td>\n",
       "      <td>8.6625</td>\n",
       "      <td>2.0</td>\n",
       "    </tr>\n",
       "    <tr>\n",
       "      <th>4</th>\n",
       "      <td>896</td>\n",
       "      <td>3</td>\n",
       "      <td>0.0</td>\n",
       "      <td>22.0</td>\n",
       "      <td>1</td>\n",
       "      <td>1</td>\n",
       "      <td>12.2875</td>\n",
       "      <td>2.0</td>\n",
       "    </tr>\n",
       "    <tr>\n",
       "      <th>...</th>\n",
       "      <td>...</td>\n",
       "      <td>...</td>\n",
       "      <td>...</td>\n",
       "      <td>...</td>\n",
       "      <td>...</td>\n",
       "      <td>...</td>\n",
       "      <td>...</td>\n",
       "      <td>...</td>\n",
       "    </tr>\n",
       "    <tr>\n",
       "      <th>413</th>\n",
       "      <td>1305</td>\n",
       "      <td>3</td>\n",
       "      <td>1.0</td>\n",
       "      <td>28.0</td>\n",
       "      <td>0</td>\n",
       "      <td>0</td>\n",
       "      <td>8.0500</td>\n",
       "      <td>2.0</td>\n",
       "    </tr>\n",
       "    <tr>\n",
       "      <th>414</th>\n",
       "      <td>1306</td>\n",
       "      <td>1</td>\n",
       "      <td>0.0</td>\n",
       "      <td>39.0</td>\n",
       "      <td>0</td>\n",
       "      <td>0</td>\n",
       "      <td>108.9000</td>\n",
       "      <td>0.0</td>\n",
       "    </tr>\n",
       "    <tr>\n",
       "      <th>415</th>\n",
       "      <td>1307</td>\n",
       "      <td>3</td>\n",
       "      <td>1.0</td>\n",
       "      <td>38.5</td>\n",
       "      <td>0</td>\n",
       "      <td>0</td>\n",
       "      <td>7.2500</td>\n",
       "      <td>2.0</td>\n",
       "    </tr>\n",
       "    <tr>\n",
       "      <th>416</th>\n",
       "      <td>1308</td>\n",
       "      <td>3</td>\n",
       "      <td>1.0</td>\n",
       "      <td>28.0</td>\n",
       "      <td>0</td>\n",
       "      <td>0</td>\n",
       "      <td>8.0500</td>\n",
       "      <td>2.0</td>\n",
       "    </tr>\n",
       "    <tr>\n",
       "      <th>417</th>\n",
       "      <td>1309</td>\n",
       "      <td>3</td>\n",
       "      <td>1.0</td>\n",
       "      <td>28.0</td>\n",
       "      <td>1</td>\n",
       "      <td>1</td>\n",
       "      <td>22.3583</td>\n",
       "      <td>0.0</td>\n",
       "    </tr>\n",
       "  </tbody>\n",
       "</table>\n",
       "<p>418 rows × 8 columns</p>\n",
       "</div>"
      ],
      "text/plain": [
       "     PassengerId  Pclass  Sex   Age  SibSp  Parch      Fare  Embarked\n",
       "0            892       3  1.0  34.5      0      0    7.8292       1.0\n",
       "1            893       3  0.0  47.0      1      0    7.0000       2.0\n",
       "2            894       2  1.0  62.0      0      0    9.6875       1.0\n",
       "3            895       3  1.0  27.0      0      0    8.6625       2.0\n",
       "4            896       3  0.0  22.0      1      1   12.2875       2.0\n",
       "..           ...     ...  ...   ...    ...    ...       ...       ...\n",
       "413         1305       3  1.0  28.0      0      0    8.0500       2.0\n",
       "414         1306       1  0.0  39.0      0      0  108.9000       0.0\n",
       "415         1307       3  1.0  38.5      0      0    7.2500       2.0\n",
       "416         1308       3  1.0  28.0      0      0    8.0500       2.0\n",
       "417         1309       3  1.0  28.0      1      1   22.3583       0.0\n",
       "\n",
       "[418 rows x 8 columns]"
      ]
     },
     "execution_count": 23,
     "metadata": {},
     "output_type": "execute_result"
    }
   ],
   "source": [
    "rfc_check = RandomForestClassifier(criterion='gini',\n",
    "                                  max_depth=8,\n",
    "                                  max_features='auto',\n",
    "                                  n_estimators=200,\n",
    "                                  random_state=2019)\n",
    "test_df"
   ]
  },
  {
   "cell_type": "code",
   "execution_count": 24,
   "id": "46533ad0",
   "metadata": {
    "execution": {
     "iopub.execute_input": "2021-09-14T16:23:30.758938Z",
     "iopub.status.busy": "2021-09-14T16:23:30.757768Z",
     "iopub.status.idle": "2021-09-14T16:23:31.198677Z",
     "shell.execute_reply": "2021-09-14T16:23:31.199351Z",
     "shell.execute_reply.started": "2021-09-14T15:54:00.336837Z"
    },
    "papermill": {
     "duration": 0.494336,
     "end_time": "2021-09-14T16:23:31.199536",
     "exception": false,
     "start_time": "2021-09-14T16:23:30.705200",
     "status": "completed"
    },
    "tags": []
   },
   "outputs": [
    {
     "data": {
      "text/plain": [
       "RandomForestClassifier(max_depth=8, n_estimators=200, random_state=2019)"
      ]
     },
     "execution_count": 24,
     "metadata": {},
     "output_type": "execute_result"
    }
   ],
   "source": [
    "rfc_check.fit(X_test, y_test)"
   ]
  },
  {
   "cell_type": "code",
   "execution_count": 25,
   "id": "bb7181c6",
   "metadata": {
    "execution": {
     "iopub.execute_input": "2021-09-14T16:23:31.275007Z",
     "iopub.status.busy": "2021-09-14T16:23:31.273994Z",
     "iopub.status.idle": "2021-09-14T16:23:31.309403Z",
     "shell.execute_reply": "2021-09-14T16:23:31.310179Z",
     "shell.execute_reply.started": "2021-09-14T15:55:28.548869Z"
    },
    "papermill": {
     "duration": 0.073419,
     "end_time": "2021-09-14T16:23:31.310444",
     "exception": false,
     "start_time": "2021-09-14T16:23:31.237025",
     "status": "completed"
    },
    "tags": []
   },
   "outputs": [
    {
     "name": "stdout",
     "output_type": "stream",
     "text": [
      "0.9626865671641791\n"
     ]
    }
   ],
   "source": [
    "pred_check = rfc_check.predict(X_test)\n",
    "print(accuracy_score(y_test, pred_check))"
   ]
  },
  {
   "cell_type": "code",
   "execution_count": 26,
   "id": "9d2ee7d4",
   "metadata": {
    "execution": {
     "iopub.execute_input": "2021-09-14T16:23:31.411304Z",
     "iopub.status.busy": "2021-09-14T16:23:31.410313Z",
     "iopub.status.idle": "2021-09-14T16:23:31.415451Z",
     "shell.execute_reply": "2021-09-14T16:23:31.414879Z",
     "shell.execute_reply.started": "2021-09-14T16:02:07.809599Z"
    },
    "papermill": {
     "duration": 0.064899,
     "end_time": "2021-09-14T16:23:31.415602",
     "exception": false,
     "start_time": "2021-09-14T16:23:31.350703",
     "status": "completed"
    },
    "tags": []
   },
   "outputs": [
    {
     "data": {
      "text/html": [
       "<div>\n",
       "<style scoped>\n",
       "    .dataframe tbody tr th:only-of-type {\n",
       "        vertical-align: middle;\n",
       "    }\n",
       "\n",
       "    .dataframe tbody tr th {\n",
       "        vertical-align: top;\n",
       "    }\n",
       "\n",
       "    .dataframe thead th {\n",
       "        text-align: right;\n",
       "    }\n",
       "</style>\n",
       "<table border=\"1\" class=\"dataframe\">\n",
       "  <thead>\n",
       "    <tr style=\"text-align: right;\">\n",
       "      <th></th>\n",
       "      <th>Pclass</th>\n",
       "      <th>Sex</th>\n",
       "      <th>Age</th>\n",
       "      <th>SibSp</th>\n",
       "      <th>Parch</th>\n",
       "      <th>Fare</th>\n",
       "      <th>Embarked</th>\n",
       "    </tr>\n",
       "  </thead>\n",
       "  <tbody>\n",
       "    <tr>\n",
       "      <th>0</th>\n",
       "      <td>3</td>\n",
       "      <td>1.0</td>\n",
       "      <td>34.5</td>\n",
       "      <td>0</td>\n",
       "      <td>0</td>\n",
       "      <td>7.8292</td>\n",
       "      <td>1.0</td>\n",
       "    </tr>\n",
       "    <tr>\n",
       "      <th>1</th>\n",
       "      <td>3</td>\n",
       "      <td>0.0</td>\n",
       "      <td>47.0</td>\n",
       "      <td>1</td>\n",
       "      <td>0</td>\n",
       "      <td>7.0000</td>\n",
       "      <td>2.0</td>\n",
       "    </tr>\n",
       "    <tr>\n",
       "      <th>2</th>\n",
       "      <td>2</td>\n",
       "      <td>1.0</td>\n",
       "      <td>62.0</td>\n",
       "      <td>0</td>\n",
       "      <td>0</td>\n",
       "      <td>9.6875</td>\n",
       "      <td>1.0</td>\n",
       "    </tr>\n",
       "    <tr>\n",
       "      <th>3</th>\n",
       "      <td>3</td>\n",
       "      <td>1.0</td>\n",
       "      <td>27.0</td>\n",
       "      <td>0</td>\n",
       "      <td>0</td>\n",
       "      <td>8.6625</td>\n",
       "      <td>2.0</td>\n",
       "    </tr>\n",
       "    <tr>\n",
       "      <th>4</th>\n",
       "      <td>3</td>\n",
       "      <td>0.0</td>\n",
       "      <td>22.0</td>\n",
       "      <td>1</td>\n",
       "      <td>1</td>\n",
       "      <td>12.2875</td>\n",
       "      <td>2.0</td>\n",
       "    </tr>\n",
       "    <tr>\n",
       "      <th>...</th>\n",
       "      <td>...</td>\n",
       "      <td>...</td>\n",
       "      <td>...</td>\n",
       "      <td>...</td>\n",
       "      <td>...</td>\n",
       "      <td>...</td>\n",
       "      <td>...</td>\n",
       "    </tr>\n",
       "    <tr>\n",
       "      <th>413</th>\n",
       "      <td>3</td>\n",
       "      <td>1.0</td>\n",
       "      <td>28.0</td>\n",
       "      <td>0</td>\n",
       "      <td>0</td>\n",
       "      <td>8.0500</td>\n",
       "      <td>2.0</td>\n",
       "    </tr>\n",
       "    <tr>\n",
       "      <th>414</th>\n",
       "      <td>1</td>\n",
       "      <td>0.0</td>\n",
       "      <td>39.0</td>\n",
       "      <td>0</td>\n",
       "      <td>0</td>\n",
       "      <td>108.9000</td>\n",
       "      <td>0.0</td>\n",
       "    </tr>\n",
       "    <tr>\n",
       "      <th>415</th>\n",
       "      <td>3</td>\n",
       "      <td>1.0</td>\n",
       "      <td>38.5</td>\n",
       "      <td>0</td>\n",
       "      <td>0</td>\n",
       "      <td>7.2500</td>\n",
       "      <td>2.0</td>\n",
       "    </tr>\n",
       "    <tr>\n",
       "      <th>416</th>\n",
       "      <td>3</td>\n",
       "      <td>1.0</td>\n",
       "      <td>28.0</td>\n",
       "      <td>0</td>\n",
       "      <td>0</td>\n",
       "      <td>8.0500</td>\n",
       "      <td>2.0</td>\n",
       "    </tr>\n",
       "    <tr>\n",
       "      <th>417</th>\n",
       "      <td>3</td>\n",
       "      <td>1.0</td>\n",
       "      <td>28.0</td>\n",
       "      <td>1</td>\n",
       "      <td>1</td>\n",
       "      <td>22.3583</td>\n",
       "      <td>0.0</td>\n",
       "    </tr>\n",
       "  </tbody>\n",
       "</table>\n",
       "<p>418 rows × 7 columns</p>\n",
       "</div>"
      ],
      "text/plain": [
       "     Pclass  Sex   Age  SibSp  Parch      Fare  Embarked\n",
       "0         3  1.0  34.5      0      0    7.8292       1.0\n",
       "1         3  0.0  47.0      1      0    7.0000       2.0\n",
       "2         2  1.0  62.0      0      0    9.6875       1.0\n",
       "3         3  1.0  27.0      0      0    8.6625       2.0\n",
       "4         3  0.0  22.0      1      1   12.2875       2.0\n",
       "..      ...  ...   ...    ...    ...       ...       ...\n",
       "413       3  1.0  28.0      0      0    8.0500       2.0\n",
       "414       1  0.0  39.0      0      0  108.9000       0.0\n",
       "415       3  1.0  38.5      0      0    7.2500       2.0\n",
       "416       3  1.0  28.0      0      0    8.0500       2.0\n",
       "417       3  1.0  28.0      1      1   22.3583       0.0\n",
       "\n",
       "[418 rows x 7 columns]"
      ]
     },
     "execution_count": 26,
     "metadata": {},
     "output_type": "execute_result"
    }
   ],
   "source": [
    "res = pd.DataFrame(test_df['PassengerId'])\n",
    "test_df.drop(['PassengerId'], axis=1, inplace=True)\n",
    "\n",
    "rfc_main = RandomForestClassifier(criterion='gini',\n",
    "                                  max_depth=8,\n",
    "                                  max_features='auto',\n",
    "                                  n_estimators=200,\n",
    "                                  random_state=2019)\n",
    "test_df"
   ]
  },
  {
   "cell_type": "code",
   "execution_count": 27,
   "id": "95722513",
   "metadata": {
    "execution": {
     "iopub.execute_input": "2021-09-14T16:23:31.493850Z",
     "iopub.status.busy": "2021-09-14T16:23:31.492914Z",
     "iopub.status.idle": "2021-09-14T16:23:31.950363Z",
     "shell.execute_reply": "2021-09-14T16:23:31.950906Z",
     "shell.execute_reply.started": "2021-09-14T16:08:36.902458Z"
    },
    "papermill": {
     "duration": 0.498331,
     "end_time": "2021-09-14T16:23:31.951096",
     "exception": false,
     "start_time": "2021-09-14T16:23:31.452765",
     "status": "completed"
    },
    "tags": []
   },
   "outputs": [
    {
     "data": {
      "text/plain": [
       "RandomForestClassifier(max_depth=8, n_estimators=200, random_state=2019)"
      ]
     },
     "execution_count": 27,
     "metadata": {},
     "output_type": "execute_result"
    }
   ],
   "source": [
    "rfc_main.fit(df, train_y)"
   ]
  },
  {
   "cell_type": "code",
   "execution_count": 28,
   "id": "146bf606",
   "metadata": {
    "execution": {
     "iopub.execute_input": "2021-09-14T16:23:32.026208Z",
     "iopub.status.busy": "2021-09-14T16:23:32.025508Z",
     "iopub.status.idle": "2021-09-14T16:23:32.063274Z",
     "shell.execute_reply": "2021-09-14T16:23:32.062691Z",
     "shell.execute_reply.started": "2021-09-14T16:08:39.648561Z"
    },
    "papermill": {
     "duration": 0.076964,
     "end_time": "2021-09-14T16:23:32.063428",
     "exception": false,
     "start_time": "2021-09-14T16:23:31.986464",
     "status": "completed"
    },
    "tags": []
   },
   "outputs": [],
   "source": [
    "pred_main = rfc_main.predict(test_df)"
   ]
  },
  {
   "cell_type": "code",
   "execution_count": 29,
   "id": "747565dd",
   "metadata": {
    "execution": {
     "iopub.execute_input": "2021-09-14T16:23:32.143062Z",
     "iopub.status.busy": "2021-09-14T16:23:32.142251Z",
     "iopub.status.idle": "2021-09-14T16:23:32.151055Z",
     "shell.execute_reply": "2021-09-14T16:23:32.150436Z",
     "shell.execute_reply.started": "2021-09-14T16:10:29.755168Z"
    },
    "papermill": {
     "duration": 0.052763,
     "end_time": "2021-09-14T16:23:32.151215",
     "exception": false,
     "start_time": "2021-09-14T16:23:32.098452",
     "status": "completed"
    },
    "tags": []
   },
   "outputs": [],
   "source": [
    "res['Survived'] = pred_main\n",
    "\n",
    "res.to_csv('res_rfc.csv', index=False)"
   ]
  },
  {
   "cell_type": "code",
   "execution_count": null,
   "id": "b1e72e15",
   "metadata": {
    "papermill": {
     "duration": 0.035483,
     "end_time": "2021-09-14T16:23:32.222701",
     "exception": false,
     "start_time": "2021-09-14T16:23:32.187218",
     "status": "completed"
    },
    "tags": []
   },
   "outputs": [],
   "source": []
  }
 ],
 "metadata": {
  "kernelspec": {
   "display_name": "Python 3",
   "language": "python",
   "name": "python3"
  },
  "language_info": {
   "codemirror_mode": {
    "name": "ipython",
    "version": 3
   },
   "file_extension": ".py",
   "mimetype": "text/x-python",
   "name": "python",
   "nbconvert_exporter": "python",
   "pygments_lexer": "ipython3",
   "version": "3.7.10"
  },
  "papermill": {
   "default_parameters": {},
   "duration": 691.200209,
   "end_time": "2021-09-14T16:23:33.072096",
   "environment_variables": {},
   "exception": null,
   "input_path": "__notebook__.ipynb",
   "output_path": "__notebook__.ipynb",
   "parameters": {},
   "start_time": "2021-09-14T16:12:01.871887",
   "version": "2.3.3"
  }
 },
 "nbformat": 4,
 "nbformat_minor": 5
}
