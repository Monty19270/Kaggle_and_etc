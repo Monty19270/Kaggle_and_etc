{
 "cells": [
  {
   "cell_type": "markdown",
   "id": "53b1241a",
   "metadata": {},
   "source": [
    "# Intern Test (round №1)"
   ]
  },
  {
   "cell_type": "code",
   "execution_count": 287,
   "id": "12b9af46",
   "metadata": {},
   "outputs": [],
   "source": [
    "# Импортируем библиотеки\n",
    "\n",
    "import sklearn\n",
    "import numpy as np\n",
    "import pandas as pd\n",
    "import xgboost as xgb\n",
    "import matplotlib.pyplot as plt\n",
    "from sklearn.preprocessing import OneHotEncoder as OHE\n",
    "from sklearn.linear_model import LinearRegression, Lasso\n",
    "%matplotlib inline"
   ]
  },
  {
   "cell_type": "markdown",
   "id": "ed0c7056",
   "metadata": {},
   "source": [
    "## Dataset"
   ]
  },
  {
   "cell_type": "code",
   "execution_count": 147,
   "id": "ec139282",
   "metadata": {},
   "outputs": [
    {
     "data": {
      "text/html": [
       "<div>\n",
       "<style scoped>\n",
       "    .dataframe tbody tr th:only-of-type {\n",
       "        vertical-align: middle;\n",
       "    }\n",
       "\n",
       "    .dataframe tbody tr th {\n",
       "        vertical-align: top;\n",
       "    }\n",
       "\n",
       "    .dataframe thead th {\n",
       "        text-align: right;\n",
       "    }\n",
       "</style>\n",
       "<table border=\"1\" class=\"dataframe\">\n",
       "  <thead>\n",
       "    <tr style=\"text-align: right;\">\n",
       "      <th></th>\n",
       "      <th>date</th>\n",
       "      <th>Appliances</th>\n",
       "      <th>lights</th>\n",
       "      <th>T1</th>\n",
       "      <th>RH_1</th>\n",
       "      <th>T2</th>\n",
       "      <th>RH_2</th>\n",
       "      <th>T3</th>\n",
       "      <th>RH_3</th>\n",
       "      <th>T4</th>\n",
       "      <th>...</th>\n",
       "      <th>T9</th>\n",
       "      <th>RH_9</th>\n",
       "      <th>T_out</th>\n",
       "      <th>Press_mm_hg</th>\n",
       "      <th>RH_out</th>\n",
       "      <th>Windspeed</th>\n",
       "      <th>Visibility</th>\n",
       "      <th>Tdewpoint</th>\n",
       "      <th>rv1</th>\n",
       "      <th>rv2</th>\n",
       "    </tr>\n",
       "  </thead>\n",
       "  <tbody>\n",
       "    <tr>\n",
       "      <th>0</th>\n",
       "      <td>2016-01-11 17:00:00</td>\n",
       "      <td>60</td>\n",
       "      <td>30</td>\n",
       "      <td>19.89</td>\n",
       "      <td>47.596667</td>\n",
       "      <td>19.2</td>\n",
       "      <td>44.790000</td>\n",
       "      <td>19.79</td>\n",
       "      <td>44.730000</td>\n",
       "      <td>19.000000</td>\n",
       "      <td>...</td>\n",
       "      <td>17.033333</td>\n",
       "      <td>45.53</td>\n",
       "      <td>6.600000</td>\n",
       "      <td>733.5</td>\n",
       "      <td>92.0</td>\n",
       "      <td>7.000000</td>\n",
       "      <td>63.000000</td>\n",
       "      <td>5.3</td>\n",
       "      <td>13.275433</td>\n",
       "      <td>13.275433</td>\n",
       "    </tr>\n",
       "    <tr>\n",
       "      <th>1</th>\n",
       "      <td>2016-01-11 17:10:00</td>\n",
       "      <td>60</td>\n",
       "      <td>30</td>\n",
       "      <td>19.89</td>\n",
       "      <td>46.693333</td>\n",
       "      <td>19.2</td>\n",
       "      <td>44.722500</td>\n",
       "      <td>19.79</td>\n",
       "      <td>44.790000</td>\n",
       "      <td>19.000000</td>\n",
       "      <td>...</td>\n",
       "      <td>17.066667</td>\n",
       "      <td>45.56</td>\n",
       "      <td>6.483333</td>\n",
       "      <td>733.6</td>\n",
       "      <td>92.0</td>\n",
       "      <td>6.666667</td>\n",
       "      <td>59.166667</td>\n",
       "      <td>5.2</td>\n",
       "      <td>18.606195</td>\n",
       "      <td>18.606195</td>\n",
       "    </tr>\n",
       "    <tr>\n",
       "      <th>2</th>\n",
       "      <td>2016-01-11 17:20:00</td>\n",
       "      <td>50</td>\n",
       "      <td>30</td>\n",
       "      <td>19.89</td>\n",
       "      <td>46.300000</td>\n",
       "      <td>19.2</td>\n",
       "      <td>44.626667</td>\n",
       "      <td>19.79</td>\n",
       "      <td>44.933333</td>\n",
       "      <td>18.926667</td>\n",
       "      <td>...</td>\n",
       "      <td>17.000000</td>\n",
       "      <td>45.50</td>\n",
       "      <td>6.366667</td>\n",
       "      <td>733.7</td>\n",
       "      <td>92.0</td>\n",
       "      <td>6.333333</td>\n",
       "      <td>55.333333</td>\n",
       "      <td>5.1</td>\n",
       "      <td>28.642668</td>\n",
       "      <td>28.642668</td>\n",
       "    </tr>\n",
       "    <tr>\n",
       "      <th>3</th>\n",
       "      <td>2016-01-11 17:30:00</td>\n",
       "      <td>50</td>\n",
       "      <td>40</td>\n",
       "      <td>19.89</td>\n",
       "      <td>46.066667</td>\n",
       "      <td>19.2</td>\n",
       "      <td>44.590000</td>\n",
       "      <td>19.79</td>\n",
       "      <td>45.000000</td>\n",
       "      <td>18.890000</td>\n",
       "      <td>...</td>\n",
       "      <td>17.000000</td>\n",
       "      <td>45.40</td>\n",
       "      <td>6.250000</td>\n",
       "      <td>733.8</td>\n",
       "      <td>92.0</td>\n",
       "      <td>6.000000</td>\n",
       "      <td>51.500000</td>\n",
       "      <td>5.0</td>\n",
       "      <td>45.410389</td>\n",
       "      <td>45.410389</td>\n",
       "    </tr>\n",
       "    <tr>\n",
       "      <th>4</th>\n",
       "      <td>2016-01-11 17:40:00</td>\n",
       "      <td>60</td>\n",
       "      <td>40</td>\n",
       "      <td>19.89</td>\n",
       "      <td>46.333333</td>\n",
       "      <td>19.2</td>\n",
       "      <td>44.530000</td>\n",
       "      <td>19.79</td>\n",
       "      <td>45.000000</td>\n",
       "      <td>18.890000</td>\n",
       "      <td>...</td>\n",
       "      <td>17.000000</td>\n",
       "      <td>45.40</td>\n",
       "      <td>6.133333</td>\n",
       "      <td>733.9</td>\n",
       "      <td>92.0</td>\n",
       "      <td>5.666667</td>\n",
       "      <td>47.666667</td>\n",
       "      <td>4.9</td>\n",
       "      <td>10.084097</td>\n",
       "      <td>10.084097</td>\n",
       "    </tr>\n",
       "  </tbody>\n",
       "</table>\n",
       "<p>5 rows × 29 columns</p>\n",
       "</div>"
      ],
      "text/plain": [
       "                  date  Appliances  lights     T1       RH_1    T2       RH_2  \\\n",
       "0  2016-01-11 17:00:00          60      30  19.89  47.596667  19.2  44.790000   \n",
       "1  2016-01-11 17:10:00          60      30  19.89  46.693333  19.2  44.722500   \n",
       "2  2016-01-11 17:20:00          50      30  19.89  46.300000  19.2  44.626667   \n",
       "3  2016-01-11 17:30:00          50      40  19.89  46.066667  19.2  44.590000   \n",
       "4  2016-01-11 17:40:00          60      40  19.89  46.333333  19.2  44.530000   \n",
       "\n",
       "      T3       RH_3         T4  ...         T9   RH_9     T_out  Press_mm_hg  \\\n",
       "0  19.79  44.730000  19.000000  ...  17.033333  45.53  6.600000        733.5   \n",
       "1  19.79  44.790000  19.000000  ...  17.066667  45.56  6.483333        733.6   \n",
       "2  19.79  44.933333  18.926667  ...  17.000000  45.50  6.366667        733.7   \n",
       "3  19.79  45.000000  18.890000  ...  17.000000  45.40  6.250000        733.8   \n",
       "4  19.79  45.000000  18.890000  ...  17.000000  45.40  6.133333        733.9   \n",
       "\n",
       "   RH_out  Windspeed  Visibility  Tdewpoint        rv1        rv2  \n",
       "0    92.0   7.000000   63.000000        5.3  13.275433  13.275433  \n",
       "1    92.0   6.666667   59.166667        5.2  18.606195  18.606195  \n",
       "2    92.0   6.333333   55.333333        5.1  28.642668  28.642668  \n",
       "3    92.0   6.000000   51.500000        5.0  45.410389  45.410389  \n",
       "4    92.0   5.666667   47.666667        4.9  10.084097  10.084097  \n",
       "\n",
       "[5 rows x 29 columns]"
      ]
     },
     "execution_count": 147,
     "metadata": {},
     "output_type": "execute_result"
    }
   ],
   "source": [
    "energydata_complete = pd.read_csv('energydata_complete.csv', header=0, sep=',')\n",
    "energydata_complete.head()"
   ]
  },
  {
   "cell_type": "markdown",
   "id": "3977001e",
   "metadata": {},
   "source": [
    "- колонка `date` – временные метки\n",
    "    - переведите её в тип `datetime`\n",
    "    - из `date` извлечь *weekofyear* в колонку `week`\n",
    "    - должны получиться недели со 2 по 21\n",
    "    - оставить недели 3...20\n",
    "    - сделать `date` индексом"
   ]
  },
  {
   "cell_type": "code",
   "execution_count": 148,
   "id": "baaf33f1",
   "metadata": {},
   "outputs": [
    {
     "name": "stderr",
     "output_type": "stream",
     "text": [
      "<ipython-input-148-a9097c0e67f8>:2: FutureWarning: Series.dt.weekofyear and Series.dt.week have been deprecated.  Please use Series.dt.isocalendar().week instead.\n",
      "  energydata_complete['week'] = energydata_complete['date'].dt.week\n"
     ]
    },
    {
     "data": {
      "text/plain": [
       "(19735, 30)"
      ]
     },
     "execution_count": 148,
     "metadata": {},
     "output_type": "execute_result"
    }
   ],
   "source": [
    "energydata_complete['date'] = pd.to_datetime(energydata_complete['date'])\n",
    "energydata_complete['week'] = energydata_complete['date'].dt.week\n",
    "energydata_complete.shape"
   ]
  },
  {
   "cell_type": "code",
   "execution_count": 149,
   "id": "72018ce5",
   "metadata": {},
   "outputs": [],
   "source": [
    "energydata_complete = energydata_complete[(energydata_complete['week'] != 2) & (energydata_complete['week'] != 21)]"
   ]
  },
  {
   "cell_type": "code",
   "execution_count": 150,
   "id": "e13ed030",
   "metadata": {
    "scrolled": true
   },
   "outputs": [],
   "source": [
    "energydata_complete = energydata_complete.sort_values(by='date')\n",
    "energydata_complete = energydata_complete.set_index('date')"
   ]
  },
  {
   "cell_type": "markdown",
   "id": "0773c1e2",
   "metadata": {},
   "source": [
    "- все остальные колонки воспринимаем как `float`\n"
   ]
  },
  {
   "cell_type": "code",
   "execution_count": 151,
   "id": "d081a406",
   "metadata": {},
   "outputs": [],
   "source": [
    "# Изменим тип остальных колонок на float\n",
    "\n",
    "for column in energydata_complete.columns:\n",
    "    if (column != 'date') & (column != 'week'):\n",
    "        energydata_complete[column] = energydata_complete[column].astype(float)\n",
    "    else:\n",
    "        continue"
   ]
  },
  {
   "cell_type": "markdown",
   "id": "010de346",
   "metadata": {},
   "source": [
    "Визуализируйте последнюю неделю "
   ]
  },
  {
   "cell_type": "code",
   "execution_count": 152,
   "id": "9b28c6ec",
   "metadata": {},
   "outputs": [
    {
     "data": {
      "text/plain": [
       "Text(0, 0.5, 'Appliances')"
      ]
     },
     "execution_count": 152,
     "metadata": {},
     "output_type": "execute_result"
    },
    {
     "data": {
      "image/png": "[encoded data removed]",
      "text/plain": [
       "<Figure size 864x576 with 1 Axes>"
      ]
     },
     "metadata": {},
     "output_type": "display_data"
    }
   ],
   "source": [
    "plt.figure(num=None, figsize=(12, 8), facecolor='w', edgecolor='k')\n",
    "energydata_complete_fig = energydata_complete[energydata_complete['week'] == 20]\n",
    "plt.plot(energydata_complete_fig.index, energydata_complete_fig['Appliances'], linewidth=1)\n",
    "plt.grid()\n",
    "plt.xlabel('Date', fontsize=14)\n",
    "plt.ylabel('Appliances', fontsize=14)"
   ]
  },
  {
   "cell_type": "markdown",
   "id": "72dbb30a",
   "metadata": {},
   "source": [
    "## Validation"
   ]
  },
  {
   "cell_type": "markdown",
   "id": "b7173908",
   "metadata": {},
   "source": [
    "Разобъём датасет на 2 части: \n",
    "\n",
    "- данные за недели 19-20 – тестовая выборка\n",
    "- недели 3-18 – обучающая выборка\n",
    "- колонка `Appliances` – целевая переменная `y`\n",
    "- всё остальное – `X`, т.е. признаки\n",
    "\n",
    "### _Как называется данный вид валидации?_\n",
    "_Валидация на отложенных выборках (Hold-Out Validation)_"
   ]
  },
  {
   "cell_type": "code",
   "execution_count": 153,
   "id": "3b7ee950",
   "metadata": {},
   "outputs": [
    {
     "data": {
      "text/html": [
       "<div>\n",
       "<style scoped>\n",
       "    .dataframe tbody tr th:only-of-type {\n",
       "        vertical-align: middle;\n",
       "    }\n",
       "\n",
       "    .dataframe tbody tr th {\n",
       "        vertical-align: top;\n",
       "    }\n",
       "\n",
       "    .dataframe thead th {\n",
       "        text-align: right;\n",
       "    }\n",
       "</style>\n",
       "<table border=\"1\" class=\"dataframe\">\n",
       "  <thead>\n",
       "    <tr style=\"text-align: right;\">\n",
       "      <th></th>\n",
       "      <th>lights</th>\n",
       "      <th>T1</th>\n",
       "      <th>RH_1</th>\n",
       "      <th>T2</th>\n",
       "      <th>RH_2</th>\n",
       "      <th>T3</th>\n",
       "      <th>RH_3</th>\n",
       "      <th>T4</th>\n",
       "      <th>RH_4</th>\n",
       "      <th>T5</th>\n",
       "      <th>...</th>\n",
       "      <th>RH_9</th>\n",
       "      <th>T_out</th>\n",
       "      <th>Press_mm_hg</th>\n",
       "      <th>RH_out</th>\n",
       "      <th>Windspeed</th>\n",
       "      <th>Visibility</th>\n",
       "      <th>Tdewpoint</th>\n",
       "      <th>rv1</th>\n",
       "      <th>rv2</th>\n",
       "      <th>week</th>\n",
       "    </tr>\n",
       "    <tr>\n",
       "      <th>date</th>\n",
       "      <th></th>\n",
       "      <th></th>\n",
       "      <th></th>\n",
       "      <th></th>\n",
       "      <th></th>\n",
       "      <th></th>\n",
       "      <th></th>\n",
       "      <th></th>\n",
       "      <th></th>\n",
       "      <th></th>\n",
       "      <th></th>\n",
       "      <th></th>\n",
       "      <th></th>\n",
       "      <th></th>\n",
       "      <th></th>\n",
       "      <th></th>\n",
       "      <th></th>\n",
       "      <th></th>\n",
       "      <th></th>\n",
       "      <th></th>\n",
       "      <th></th>\n",
       "    </tr>\n",
       "  </thead>\n",
       "  <tbody>\n",
       "    <tr>\n",
       "      <th>2016-01-18 00:00:00</th>\n",
       "      <td>10.0</td>\n",
       "      <td>21.823333</td>\n",
       "      <td>39.900000</td>\n",
       "      <td>20.230000</td>\n",
       "      <td>40.000000</td>\n",
       "      <td>20.323333</td>\n",
       "      <td>39.790000</td>\n",
       "      <td>21.166667</td>\n",
       "      <td>39.863333</td>\n",
       "      <td>19.500000</td>\n",
       "      <td>...</td>\n",
       "      <td>38.400000</td>\n",
       "      <td>-2.800000</td>\n",
       "      <td>763.700000</td>\n",
       "      <td>86.000000</td>\n",
       "      <td>2.000000</td>\n",
       "      <td>25.0</td>\n",
       "      <td>-4.900000</td>\n",
       "      <td>2.995012</td>\n",
       "      <td>2.995012</td>\n",
       "      <td>3</td>\n",
       "    </tr>\n",
       "    <tr>\n",
       "      <th>2016-01-18 00:10:00</th>\n",
       "      <td>10.0</td>\n",
       "      <td>21.790000</td>\n",
       "      <td>39.933333</td>\n",
       "      <td>20.166667</td>\n",
       "      <td>40.090000</td>\n",
       "      <td>20.390000</td>\n",
       "      <td>39.790000</td>\n",
       "      <td>21.100000</td>\n",
       "      <td>39.826667</td>\n",
       "      <td>19.390000</td>\n",
       "      <td>...</td>\n",
       "      <td>38.466667</td>\n",
       "      <td>-2.883333</td>\n",
       "      <td>763.583333</td>\n",
       "      <td>86.000000</td>\n",
       "      <td>2.000000</td>\n",
       "      <td>25.5</td>\n",
       "      <td>-4.983333</td>\n",
       "      <td>7.407794</td>\n",
       "      <td>7.407794</td>\n",
       "      <td>3</td>\n",
       "    </tr>\n",
       "    <tr>\n",
       "      <th>2016-01-18 00:20:00</th>\n",
       "      <td>10.0</td>\n",
       "      <td>21.730000</td>\n",
       "      <td>40.000000</td>\n",
       "      <td>20.075000</td>\n",
       "      <td>40.067500</td>\n",
       "      <td>20.323333</td>\n",
       "      <td>39.790000</td>\n",
       "      <td>21.100000</td>\n",
       "      <td>39.900000</td>\n",
       "      <td>19.390000</td>\n",
       "      <td>...</td>\n",
       "      <td>38.400000</td>\n",
       "      <td>-2.966667</td>\n",
       "      <td>763.466667</td>\n",
       "      <td>86.000000</td>\n",
       "      <td>2.000000</td>\n",
       "      <td>26.0</td>\n",
       "      <td>-5.066667</td>\n",
       "      <td>3.649394</td>\n",
       "      <td>3.649394</td>\n",
       "      <td>3</td>\n",
       "    </tr>\n",
       "    <tr>\n",
       "      <th>2016-01-18 00:30:00</th>\n",
       "      <td>20.0</td>\n",
       "      <td>21.666667</td>\n",
       "      <td>40.000000</td>\n",
       "      <td>20.000000</td>\n",
       "      <td>40.000000</td>\n",
       "      <td>20.290000</td>\n",
       "      <td>39.700000</td>\n",
       "      <td>21.100000</td>\n",
       "      <td>39.933333</td>\n",
       "      <td>19.290000</td>\n",
       "      <td>...</td>\n",
       "      <td>38.466667</td>\n",
       "      <td>-3.050000</td>\n",
       "      <td>763.350000</td>\n",
       "      <td>86.000000</td>\n",
       "      <td>2.000000</td>\n",
       "      <td>26.5</td>\n",
       "      <td>-5.150000</td>\n",
       "      <td>2.144295</td>\n",
       "      <td>2.144295</td>\n",
       "      <td>3</td>\n",
       "    </tr>\n",
       "    <tr>\n",
       "      <th>2016-01-18 00:40:00</th>\n",
       "      <td>0.0</td>\n",
       "      <td>21.600000</td>\n",
       "      <td>40.193333</td>\n",
       "      <td>19.945000</td>\n",
       "      <td>40.000000</td>\n",
       "      <td>20.260000</td>\n",
       "      <td>39.760000</td>\n",
       "      <td>21.100000</td>\n",
       "      <td>40.000000</td>\n",
       "      <td>19.290000</td>\n",
       "      <td>...</td>\n",
       "      <td>38.590000</td>\n",
       "      <td>-3.133333</td>\n",
       "      <td>763.233333</td>\n",
       "      <td>86.000000</td>\n",
       "      <td>2.000000</td>\n",
       "      <td>27.0</td>\n",
       "      <td>-5.233333</td>\n",
       "      <td>26.123064</td>\n",
       "      <td>26.123064</td>\n",
       "      <td>3</td>\n",
       "    </tr>\n",
       "    <tr>\n",
       "      <th>...</th>\n",
       "      <td>...</td>\n",
       "      <td>...</td>\n",
       "      <td>...</td>\n",
       "      <td>...</td>\n",
       "      <td>...</td>\n",
       "      <td>...</td>\n",
       "      <td>...</td>\n",
       "      <td>...</td>\n",
       "      <td>...</td>\n",
       "      <td>...</td>\n",
       "      <td>...</td>\n",
       "      <td>...</td>\n",
       "      <td>...</td>\n",
       "      <td>...</td>\n",
       "      <td>...</td>\n",
       "      <td>...</td>\n",
       "      <td>...</td>\n",
       "      <td>...</td>\n",
       "      <td>...</td>\n",
       "      <td>...</td>\n",
       "      <td>...</td>\n",
       "    </tr>\n",
       "    <tr>\n",
       "      <th>2016-05-08 23:10:00</th>\n",
       "      <td>0.0</td>\n",
       "      <td>24.600000</td>\n",
       "      <td>38.400000</td>\n",
       "      <td>23.790000</td>\n",
       "      <td>36.590000</td>\n",
       "      <td>26.290000</td>\n",
       "      <td>37.790000</td>\n",
       "      <td>24.856667</td>\n",
       "      <td>36.060000</td>\n",
       "      <td>23.700000</td>\n",
       "      <td>...</td>\n",
       "      <td>40.790000</td>\n",
       "      <td>16.800000</td>\n",
       "      <td>751.616667</td>\n",
       "      <td>60.333333</td>\n",
       "      <td>2.166667</td>\n",
       "      <td>40.0</td>\n",
       "      <td>9.016667</td>\n",
       "      <td>32.102663</td>\n",
       "      <td>32.102663</td>\n",
       "      <td>18</td>\n",
       "    </tr>\n",
       "    <tr>\n",
       "      <th>2016-05-08 23:20:00</th>\n",
       "      <td>0.0</td>\n",
       "      <td>24.566667</td>\n",
       "      <td>38.400000</td>\n",
       "      <td>23.700000</td>\n",
       "      <td>36.730000</td>\n",
       "      <td>26.290000</td>\n",
       "      <td>37.863333</td>\n",
       "      <td>24.790000</td>\n",
       "      <td>36.045000</td>\n",
       "      <td>23.666667</td>\n",
       "      <td>...</td>\n",
       "      <td>40.977143</td>\n",
       "      <td>16.900000</td>\n",
       "      <td>751.633333</td>\n",
       "      <td>59.666667</td>\n",
       "      <td>2.333333</td>\n",
       "      <td>40.0</td>\n",
       "      <td>8.933333</td>\n",
       "      <td>44.412740</td>\n",
       "      <td>44.412740</td>\n",
       "      <td>18</td>\n",
       "    </tr>\n",
       "    <tr>\n",
       "      <th>2016-05-08 23:30:00</th>\n",
       "      <td>0.0</td>\n",
       "      <td>24.566667</td>\n",
       "      <td>38.400000</td>\n",
       "      <td>23.700000</td>\n",
       "      <td>36.863333</td>\n",
       "      <td>26.290000</td>\n",
       "      <td>37.900000</td>\n",
       "      <td>24.785000</td>\n",
       "      <td>36.047500</td>\n",
       "      <td>23.600000</td>\n",
       "      <td>...</td>\n",
       "      <td>41.296000</td>\n",
       "      <td>17.000000</td>\n",
       "      <td>751.650000</td>\n",
       "      <td>59.000000</td>\n",
       "      <td>2.500000</td>\n",
       "      <td>40.0</td>\n",
       "      <td>8.850000</td>\n",
       "      <td>24.124543</td>\n",
       "      <td>24.124543</td>\n",
       "      <td>18</td>\n",
       "    </tr>\n",
       "    <tr>\n",
       "      <th>2016-05-08 23:40:00</th>\n",
       "      <td>0.0</td>\n",
       "      <td>24.600000</td>\n",
       "      <td>38.400000</td>\n",
       "      <td>23.600000</td>\n",
       "      <td>36.826667</td>\n",
       "      <td>26.290000</td>\n",
       "      <td>37.900000</td>\n",
       "      <td>24.780000</td>\n",
       "      <td>36.050000</td>\n",
       "      <td>23.600000</td>\n",
       "      <td>...</td>\n",
       "      <td>41.525714</td>\n",
       "      <td>17.100000</td>\n",
       "      <td>751.666667</td>\n",
       "      <td>58.333333</td>\n",
       "      <td>2.666667</td>\n",
       "      <td>40.0</td>\n",
       "      <td>8.766667</td>\n",
       "      <td>49.360721</td>\n",
       "      <td>49.360721</td>\n",
       "      <td>18</td>\n",
       "    </tr>\n",
       "    <tr>\n",
       "      <th>2016-05-08 23:50:00</th>\n",
       "      <td>0.0</td>\n",
       "      <td>24.533333</td>\n",
       "      <td>38.400000</td>\n",
       "      <td>23.600000</td>\n",
       "      <td>36.966667</td>\n",
       "      <td>26.290000</td>\n",
       "      <td>38.000000</td>\n",
       "      <td>24.775000</td>\n",
       "      <td>36.052500</td>\n",
       "      <td>23.600000</td>\n",
       "      <td>...</td>\n",
       "      <td>41.790000</td>\n",
       "      <td>17.200000</td>\n",
       "      <td>751.683333</td>\n",
       "      <td>57.666667</td>\n",
       "      <td>2.833333</td>\n",
       "      <td>40.0</td>\n",
       "      <td>8.683333</td>\n",
       "      <td>0.838469</td>\n",
       "      <td>0.838469</td>\n",
       "      <td>18</td>\n",
       "    </tr>\n",
       "  </tbody>\n",
       "</table>\n",
       "<p>16128 rows × 28 columns</p>\n",
       "</div>"
      ],
      "text/plain": [
       "                     lights         T1       RH_1         T2       RH_2  \\\n",
       "date                                                                      \n",
       "2016-01-18 00:00:00    10.0  21.823333  39.900000  20.230000  40.000000   \n",
       "2016-01-18 00:10:00    10.0  21.790000  39.933333  20.166667  40.090000   \n",
       "2016-01-18 00:20:00    10.0  21.730000  40.000000  20.075000  40.067500   \n",
       "2016-01-18 00:30:00    20.0  21.666667  40.000000  20.000000  40.000000   \n",
       "2016-01-18 00:40:00     0.0  21.600000  40.193333  19.945000  40.000000   \n",
       "...                     ...        ...        ...        ...        ...   \n",
       "2016-05-08 23:10:00     0.0  24.600000  38.400000  23.790000  36.590000   \n",
       "2016-05-08 23:20:00     0.0  24.566667  38.400000  23.700000  36.730000   \n",
       "2016-05-08 23:30:00     0.0  24.566667  38.400000  23.700000  36.863333   \n",
       "2016-05-08 23:40:00     0.0  24.600000  38.400000  23.600000  36.826667   \n",
       "2016-05-08 23:50:00     0.0  24.533333  38.400000  23.600000  36.966667   \n",
       "\n",
       "                            T3       RH_3         T4       RH_4         T5  \\\n",
       "date                                                                         \n",
       "2016-01-18 00:00:00  20.323333  39.790000  21.166667  39.863333  19.500000   \n",
       "2016-01-18 00:10:00  20.390000  39.790000  21.100000  39.826667  19.390000   \n",
       "2016-01-18 00:20:00  20.323333  39.790000  21.100000  39.900000  19.390000   \n",
       "2016-01-18 00:30:00  20.290000  39.700000  21.100000  39.933333  19.290000   \n",
       "2016-01-18 00:40:00  20.260000  39.760000  21.100000  40.000000  19.290000   \n",
       "...                        ...        ...        ...        ...        ...   \n",
       "2016-05-08 23:10:00  26.290000  37.790000  24.856667  36.060000  23.700000   \n",
       "2016-05-08 23:20:00  26.290000  37.863333  24.790000  36.045000  23.666667   \n",
       "2016-05-08 23:30:00  26.290000  37.900000  24.785000  36.047500  23.600000   \n",
       "2016-05-08 23:40:00  26.290000  37.900000  24.780000  36.050000  23.600000   \n",
       "2016-05-08 23:50:00  26.290000  38.000000  24.775000  36.052500  23.600000   \n",
       "\n",
       "                     ...       RH_9      T_out  Press_mm_hg     RH_out  \\\n",
       "date                 ...                                                 \n",
       "2016-01-18 00:00:00  ...  38.400000  -2.800000   763.700000  86.000000   \n",
       "2016-01-18 00:10:00  ...  38.466667  -2.883333   763.583333  86.000000   \n",
       "2016-01-18 00:20:00  ...  38.400000  -2.966667   763.466667  86.000000   \n",
       "2016-01-18 00:30:00  ...  38.466667  -3.050000   763.350000  86.000000   \n",
       "2016-01-18 00:40:00  ...  38.590000  -3.133333   763.233333  86.000000   \n",
       "...                  ...        ...        ...          ...        ...   \n",
       "2016-05-08 23:10:00  ...  40.790000  16.800000   751.616667  60.333333   \n",
       "2016-05-08 23:20:00  ...  40.977143  16.900000   751.633333  59.666667   \n",
       "2016-05-08 23:30:00  ...  41.296000  17.000000   751.650000  59.000000   \n",
       "2016-05-08 23:40:00  ...  41.525714  17.100000   751.666667  58.333333   \n",
       "2016-05-08 23:50:00  ...  41.790000  17.200000   751.683333  57.666667   \n",
       "\n",
       "                     Windspeed  Visibility  Tdewpoint        rv1        rv2  \\\n",
       "date                                                                          \n",
       "2016-01-18 00:00:00   2.000000        25.0  -4.900000   2.995012   2.995012   \n",
       "2016-01-18 00:10:00   2.000000        25.5  -4.983333   7.407794   7.407794   \n",
       "2016-01-18 00:20:00   2.000000        26.0  -5.066667   3.649394   3.649394   \n",
       "2016-01-18 00:30:00   2.000000        26.5  -5.150000   2.144295   2.144295   \n",
       "2016-01-18 00:40:00   2.000000        27.0  -5.233333  26.123064  26.123064   \n",
       "...                        ...         ...        ...        ...        ...   \n",
       "2016-05-08 23:10:00   2.166667        40.0   9.016667  32.102663  32.102663   \n",
       "2016-05-08 23:20:00   2.333333        40.0   8.933333  44.412740  44.412740   \n",
       "2016-05-08 23:30:00   2.500000        40.0   8.850000  24.124543  24.124543   \n",
       "2016-05-08 23:40:00   2.666667        40.0   8.766667  49.360721  49.360721   \n",
       "2016-05-08 23:50:00   2.833333        40.0   8.683333   0.838469   0.838469   \n",
       "\n",
       "                     week  \n",
       "date                       \n",
       "2016-01-18 00:00:00     3  \n",
       "2016-01-18 00:10:00     3  \n",
       "2016-01-18 00:20:00     3  \n",
       "2016-01-18 00:30:00     3  \n",
       "2016-01-18 00:40:00     3  \n",
       "...                   ...  \n",
       "2016-05-08 23:10:00    18  \n",
       "2016-05-08 23:20:00    18  \n",
       "2016-05-08 23:30:00    18  \n",
       "2016-05-08 23:40:00    18  \n",
       "2016-05-08 23:50:00    18  \n",
       "\n",
       "[16128 rows x 28 columns]"
      ]
     },
     "execution_count": 153,
     "metadata": {},
     "output_type": "execute_result"
    }
   ],
   "source": [
    "\n",
    "lenght_train = len(energydata_complete[energydata_complete['week'] < 19])\n",
    "\n",
    "y_train = energydata_complete.iloc[:lenght_train, 0]\n",
    "X_train = energydata_complete.iloc[:lenght_train, 1:]\n",
    "y_test = energydata_complete.iloc[lenght_train:, 0]\n",
    "X_test = energydata_complete.iloc[lenght_train:, 1:]\n",
    "X_train"
   ]
  },
  {
   "cell_type": "markdown",
   "id": "61cab722",
   "metadata": {},
   "source": [
    "### Альтернативное задание\n",
    "\n",
    "Вместо разбиения на тренировочную и валидационную использовать time-series кросс-валидацию на 5 фолдов"
   ]
  },
  {
   "cell_type": "code",
   "execution_count": 154,
   "id": "86a916c9",
   "metadata": {
    "scrolled": true
   },
   "outputs": [
    {
     "name": "stdout",
     "output_type": "stream",
     "text": [
      "TRAIN: [   0    1    2 ... 3021 3022 3023] TEST: [3024 3025 3026 ... 6045 6046 6047]\n",
      "TRAIN: [   0    1    2 ... 6045 6046 6047] TEST: [6048 6049 6050 ... 9069 9070 9071]\n",
      "TRAIN: [   0    1    2 ... 9069 9070 9071] TEST: [ 9072  9073  9074 ... 12093 12094 12095]\n",
      "TRAIN: [    0     1     2 ... 12093 12094 12095] TEST: [12096 12097 12098 ... 15117 15118 15119]\n",
      "TRAIN: [    0     1     2 ... 15117 15118 15119] TEST: [15120 15121 15122 ... 18141 18142 18143]\n"
     ]
    }
   ],
   "source": [
    "from sklearn.model_selection import TimeSeriesSplit\n",
    "\n",
    "X_alt = energydata_complete.iloc[:, 1:]\n",
    "y_alt = energydata_complete.iloc[:, 0]\n",
    "\n",
    "tscv_index = []\n",
    "\n",
    "tscv = TimeSeriesSplit()\n",
    "for train_index, test_index in tscv.split(X_alt.index):    \n",
    "    tscv_index.append([train_index, test_index])\n",
    "    print('TRAIN:', train_index, 'TEST:', test_index)"
   ]
  },
  {
   "cell_type": "markdown",
   "id": "d2239a8a",
   "metadata": {},
   "source": [
    "## Feature Extraction\n",
    "### Gradient Boosting Machine\n",
    "Обучим градиентный бустинг (выбрать фреймфорк, с которым привыкли работать – CatBoost, XGBoost, LGBM, H2O и т.д.). Возьмём глубину D=4, и количество деревьев N=200, остальные параметры по умолчанию / на ваш выбор."
   ]
  },
  {
   "cell_type": "code",
   "execution_count": 182,
   "id": "36eab523",
   "metadata": {},
   "outputs": [],
   "source": [
    "from xgboost import XGBRegressor, XGBClassifier\n",
    "\n",
    "clf = XGBRegressor(learning_rate=0.1, max_depth=4, n_estimators=200)"
   ]
  },
  {
   "cell_type": "code",
   "execution_count": 183,
   "id": "4f77655a",
   "metadata": {},
   "outputs": [
    {
     "data": {
      "text/plain": [
       "XGBRegressor(base_score=0.5, booster='gbtree', colsample_bylevel=1,\n",
       "             colsample_bynode=1, colsample_bytree=1, gamma=0, gpu_id=-1,\n",
       "             importance_type='gain', interaction_constraints='',\n",
       "             learning_rate=0.1, max_delta_step=0, max_depth=4,\n",
       "             min_child_weight=1, missing=nan, monotone_constraints='()',\n",
       "             n_estimators=200, n_jobs=4, num_parallel_tree=1, random_state=0,\n",
       "             reg_alpha=0, reg_lambda=1, scale_pos_weight=1, subsample=1,\n",
       "             tree_method='exact', validate_parameters=1, verbosity=None)"
      ]
     },
     "execution_count": 183,
     "metadata": {},
     "output_type": "execute_result"
    }
   ],
   "source": [
    "clf.fit(X_train, y_train)"
   ]
  },
  {
   "cell_type": "markdown",
   "id": "581b91bc",
   "metadata": {},
   "source": [
    "### _В чём отличие между leaf-wise tree и depth-wise tree?_\n",
    "\n",
    "_Разница заключается в порядке роста дерева. Большинство алгоритмов используют depth-wise tree. Таким способом деревья растут уровень за уровнем или в глубину (дерево получается симметричным). Алгоритм leaf-wise tree выращивает деревья по листьям. Алгоритм выращивает дерево по листу с наилучшим соответствием. Данный способ позволяет работать эффективнее, чем алгоритмы depth-wise tree._"
   ]
  },
  {
   "cell_type": "markdown",
   "id": "8f07a9f6",
   "metadata": {},
   "source": [
    "### Визуализировать feature importances (оставить топ-10) в виде:"
   ]
  },
  {
   "cell_type": "code",
   "execution_count": 184,
   "id": "75f6a903",
   "metadata": {},
   "outputs": [
    {
     "data": {
      "text/plain": [
       "Text(0.5, 1.0, 'XGBoost Feature Importance')"
      ]
     },
     "execution_count": 184,
     "metadata": {},
     "output_type": "execute_result"
    },
    {
     "data": {
      "image/png": "[encoded data removed]",
      "text/plain": [
       "<Figure size 432x288 with 1 Axes>"
      ]
     },
     "metadata": {
      "needs_background": "light"
     },
     "output_type": "display_data"
    }
   ],
   "source": [
    "sorted_idx = clf.feature_importances_.argsort()\n",
    "sorted_idx = sorted_idx[-11:]\n",
    "plt.barh(X_train.columns[sorted_idx], clf.feature_importances_[sorted_idx])\n",
    "plt.title(\"XGBoost Feature Importance\")"
   ]
  },
  {
   "cell_type": "markdown",
   "id": "6c497d37",
   "metadata": {},
   "source": [
    "### _Как считается feature importance в выбранном вами бустинге?_\n",
    "\n",
    "_Данная мера основана на количестве раз, когда переменная выбирается для разделения. Все значения характеристик отдельных деревьев суммируются, а затем делятся на количество деревьев. Далее происходит проход по дереву, в ходе которого рассчитываются взвешенные частоты узлов, после чего эти взвешанные частоты приписываются характеристикам этих узлов._"
   ]
  },
  {
   "cell_type": "markdown",
   "id": "78f9794f",
   "metadata": {},
   "source": [
    "Если для валидации выбрана кросс-валидация, мы имеем 5 моделей. У каждой модели своя важность признаков, значит, мы получили некоторое распределение. дополнительно визуализировать его std (черные полоски как на графике ниже)"
   ]
  },
  {
   "cell_type": "code",
   "execution_count": 186,
   "id": "d6385680",
   "metadata": {},
   "outputs": [],
   "source": [
    "importances = []\n",
    "\n",
    "for num in tscv_index:\n",
    "    max_idx = num[0][-1] + 1\n",
    "    clf_alt = XGBRegressor(learning_rate=0.1, max_depth=4, n_estimators=200)\n",
    "    clf_alt.fit(X_alt.iloc[:max_idx,:], y_alt.iloc[:max_idx])\n",
    "    importances.append(clf_alt.feature_importances_)"
   ]
  },
  {
   "cell_type": "code",
   "execution_count": 187,
   "id": "e100c3ac",
   "metadata": {},
   "outputs": [
    {
     "data": {
      "image/png": "[encoded data removed]",
      "text/plain": [
       "<Figure size 432x288 with 1 Axes>"
      ]
     },
     "metadata": {
      "needs_background": "light"
     },
     "output_type": "display_data"
    }
   ],
   "source": [
    "# построим для первых 10 признаков\n",
    "\n",
    "std = np.std(importances, axis=0)\n",
    "mean = np.mean(importances, axis=0)\n",
    "mean_importances = pd.Series(mean, index=X_alt.columns)\n",
    "\n",
    "mean_importances_1 = mean_importances.iloc[:10]\n",
    "\n",
    "fig, ax = plt.subplots()\n",
    "mean_importances_1.plot.bar(yerr=std[:10], ax=ax)\n",
    "ax.set_title(\"Feature importances using MDI\")\n",
    "ax.set_ylabel(\"Mean decrease in impurity\")\n",
    "fig.tight_layout()\n"
   ]
  },
  {
   "cell_type": "markdown",
   "id": "839110ee",
   "metadata": {},
   "source": [
    "### *Сколько суммарно листьев у depth-wise tree глубины D? (обозначим ответ за L)*\n",
    "\n",
    "Не более *$L=2^{D}$* "
   ]
  },
  {
   "cell_type": "markdown",
   "id": "0c657325",
   "metadata": {},
   "source": [
    "### Leafs"
   ]
  },
  {
   "cell_type": "markdown",
   "id": "1af616d6",
   "metadata": {},
   "source": [
    "Для тренировочной и валидационной части мы сделаем предсказания. Но не в виде прогноза целевой переменной, а в виде перевода в новое признаковое пространство. \n",
    "\n",
    "Каждый объект, когда прогоняется через бустинг, попадает в конкретный лист в каждом дереве. Если в каждом дереве L листьев, тогда всего у бустинга (N * L) листьев. Таким образом, объект можно представить как вектор из N индексов, где на i-й позиции номер листа, в который попал объект в i-ом дереве.\n",
    "\n",
    "Нужно в выбранном фреймворке для бустинга использовать метод, выдающий предсказания в виде индекса листа по каждому дереву"
   ]
  },
  {
   "cell_type": "code",
   "execution_count": 278,
   "id": "b389ce6c",
   "metadata": {},
   "outputs": [
    {
     "data": {
      "text/plain": [
       "(18144, 200)"
      ]
     },
     "execution_count": 278,
     "metadata": {},
     "output_type": "execute_result"
    }
   ],
   "source": [
    "DX_test = xgb.DMatrix(X_test)\n",
    "DX_train = xgb.DMatrix(X_train)\n",
    "\n",
    "pred_test = clf.get_booster().predict(DX_test, pred_leaf=True)\n",
    "pred_train = clf.get_booster().predict(DX_train, pred_leaf=True)\n",
    "\n",
    "pred_main = np.concatenate((pred_train, pred_test), axis=0)\n",
    "pred_main.shape"
   ]
  },
  {
   "cell_type": "markdown",
   "id": "0e530962",
   "metadata": {},
   "source": [
    "Перевести индексы листьев из пространства `[0...L)` (индексы уникальны в рамках дерева) в формат `[0...N*L)` (индексы уникальны в рамках всего ансамбля). \n",
    "\n",
    "- допустим мы имеем 3 дерева, объект попал во 2-й лист в первом дереве, в 5-й во втором и в 0-й в третьем.\n",
    "- на выходе получаем вектор **[2, 5, 0]** (индексы - локальные по каждому дереву)\n",
    "- его необходимо перевести в **[2, 1*L+5, 2*L+0]** (индексы - глобальные по всему бустингу)\n",
    "- пример результата на диаграмме\n",
    "\n",
    "Вывести первые 10 строк и 10 стобцов старой и новой матрицы индексов\n",
    "(если использована кросс-валидация, по каждому фолду)\n",
    "+ размерности старой и новой матрицы индексов\n",
    "+ комментарием в ячейке полученные L и N*L\n",
    "\n",
    "Предыдущее задание должно быть выполнено с помощью матричной алгебры numpy"
   ]
  },
  {
   "cell_type": "code",
   "execution_count": 230,
   "id": "b08c9e19",
   "metadata": {},
   "outputs": [
    {
     "name": "stdout",
     "output_type": "stream",
     "text": [
      "30.0\n"
     ]
    }
   ],
   "source": [
    "max_leaf = 0\n",
    "for sample in pred_main:\n",
    "    if max(sample) > max_leaf:\n",
    "        max_leaf = max(sample)\n",
    "\n",
    "format_array = np.array([[max_leaf * i for i in range(0,200)]]* len(pred_main))\n",
    "pred_main_format = pred_main + format_array\n",
    "print(max_leaf)"
   ]
  },
  {
   "cell_type": "markdown",
   "id": "3f947354",
   "metadata": {},
   "source": [
    "Вывести первые 10 строк и 10 стобцов старой и новой матрицы индексов\n",
    "(если использована кросс-валидация, по каждому фолду)\n",
    "+ размерности старой и новой матрицы индексов\n",
    "+ комментарием в ячейке полученные L и N*L"
   ]
  },
  {
   "cell_type": "code",
   "execution_count": 235,
   "id": "bbf5e8bb",
   "metadata": {},
   "outputs": [
    {
     "name": "stdout",
     "output_type": "stream",
     "text": [
      "Размерность старой матрицы (18144, 200)\n",
      "Размерность старой матрицы (18144, 200)\n",
      "old matrix\n",
      "[30. 29. 29. 28. 25. 26. 26. 25. 23. 18.]\n",
      "[30. 29. 29. 28. 25. 26. 26. 25. 23. 18.]\n",
      "[30. 29. 29. 28. 25. 26. 26. 25. 23. 18.]\n",
      "[30. 29. 29. 28. 25. 26. 26. 25. 24. 18.]\n",
      "[20. 21. 20. 22. 20. 20. 21. 21. 23. 18.]\n",
      "[20. 21. 20. 22. 20. 20. 21. 21. 23. 18.]\n",
      "[20. 21. 20. 22. 20. 20. 21. 21. 23. 18.]\n",
      "[20. 21. 20. 22. 20. 20. 21. 21. 23. 18.]\n",
      "[30. 29. 29. 28. 28. 26. 28. 25. 23. 18.]\n",
      "[20. 21. 20. 22. 19. 20. 21. 21. 23. 18.]\n",
      "new matrix\n",
      "[ 30.  59.  89. 118. 145. 176. 206. 235. 263. 288.]\n",
      "[ 30.  59.  89. 118. 145. 176. 206. 235. 263. 288.]\n",
      "[ 30.  59.  89. 118. 145. 176. 206. 235. 263. 288.]\n",
      "[ 30.  59.  89. 118. 145. 176. 206. 235. 264. 288.]\n",
      "[ 20.  51.  80. 112. 140. 170. 201. 231. 263. 288.]\n",
      "[ 20.  51.  80. 112. 140. 170. 201. 231. 263. 288.]\n",
      "[ 20.  51.  80. 112. 140. 170. 201. 231. 263. 288.]\n",
      "[ 20.  51.  80. 112. 140. 170. 201. 231. 263. 288.]\n",
      "[ 30.  59.  89. 118. 148. 176. 208. 235. 263. 288.]\n",
      "[ 20.  51.  80. 112. 139. 170. 201. 231. 263. 288.]\n"
     ]
    }
   ],
   "source": [
    "# L = 30\n",
    "# N*L = 6000\n",
    "\n",
    "print(f'Размерность старой матрицы {pred_main.shape}')\n",
    "print(f'Размерность старой матрицы {pred_main_format.shape}')\n",
    "\n",
    "\n",
    "print('old matrix')\n",
    "for sample in pred_main[0:10]:\n",
    "    print(sample[0:10])\n",
    "\n",
    "    \n",
    "print('new matrix') \n",
    "for sample in pred_main_format[0:10]:\n",
    "    print(sample[0:10])"
   ]
  },
  {
   "cell_type": "markdown",
   "id": "cbf5c48c",
   "metadata": {},
   "source": [
    "**One-Hot Encoding**\n",
    "\n",
    "Имея глобальные индексы листьев, можем перевести их в пространство нулей и единиц:\n",
    "\n",
    "- пусть на предыдущем шаге мы получили индексы [1, 4, 7), а всего индексов 8\n",
    "- перевести их в формат [0, 1, 0, 0, 1, 0, 0, 1]\n",
    "\n",
    "Это и будет новым признаковым пространством, в которое мы перевели датасет с помощью градиентного бустинга"
   ]
  },
  {
   "cell_type": "code",
   "execution_count": 280,
   "id": "58132f01",
   "metadata": {
    "scrolled": true
   },
   "outputs": [
    {
     "data": {
      "text/plain": [
       "array([[0., 0., 0., ..., 0., 0., 0.],\n",
       "       [0., 0., 0., ..., 0., 0., 0.],\n",
       "       [0., 0., 0., ..., 0., 0., 0.],\n",
       "       ...,\n",
       "       [0., 0., 0., ..., 0., 0., 1.],\n",
       "       [0., 0., 0., ..., 0., 0., 1.],\n",
       "       [0., 0., 0., ..., 0., 0., 1.]])"
      ]
     },
     "execution_count": 280,
     "metadata": {},
     "output_type": "execute_result"
    }
   ],
   "source": [
    "ntrees = 200\n",
    "L = 30\n",
    "\n",
    "ohe_data = np.zeros((len(pred_main_format), ntrees * L))\n",
    "for row in range(len(pred_main_format)):\n",
    "    for idx in pred_main_format[row]:\n",
    "        ohe_data[row][int(idx)-1] = 1\n",
    "ohe_data"
   ]
  },
  {
   "cell_type": "markdown",
   "id": "c2c5704a",
   "metadata": {},
   "source": [
    "## D. Linear Regression\n",
    "\n",
    "**LinReg**\n",
    "\n",
    "поверх полученной матрицы из нулей и единиц обучаем линейную регрессию\n",
    "\n",
    "добавить L1 регуляризацию, λ=0.666"
   ]
  },
  {
   "cell_type": "code",
   "execution_count": 283,
   "id": "086e0172",
   "metadata": {},
   "outputs": [
    {
     "data": {
      "text/plain": [
       "(16128, 6000)"
      ]
     },
     "execution_count": 283,
     "metadata": {},
     "output_type": "execute_result"
    }
   ],
   "source": [
    "X_train_ohe = ohe_data[:len(X_train)]\n",
    "X_test_ohe = ohe_data[len(X_train):]"
   ]
  },
  {
   "cell_type": "code",
   "execution_count": 285,
   "id": "d4dbfa84",
   "metadata": {},
   "outputs": [
    {
     "data": {
      "text/plain": [
       "LinearRegression()"
      ]
     },
     "execution_count": 285,
     "metadata": {},
     "output_type": "execute_result"
    }
   ],
   "source": [
    "model = LinearRegression()\n",
    "model.fit(X_train_ohe, y_train)"
   ]
  },
  {
   "cell_type": "code",
   "execution_count": 289,
   "id": "2cc719b2",
   "metadata": {},
   "outputs": [
    {
     "data": {
      "text/plain": [
       "Lasso(alpha=0.666)"
      ]
     },
     "execution_count": 289,
     "metadata": {},
     "output_type": "execute_result"
    }
   ],
   "source": [
    "model_l1 = Lasso(alpha=0.666)\n",
    "model_l1.fit(X_train_ohe, y_train)"
   ]
  },
  {
   "cell_type": "code",
   "execution_count": 296,
   "id": "1e7ff454",
   "metadata": {},
   "outputs": [
    {
     "data": {
      "text/plain": [
       "6000"
      ]
     },
     "execution_count": 296,
     "metadata": {},
     "output_type": "execute_result"
    }
   ],
   "source": [
    "len(model_l1.coef_)"
   ]
  },
  {
   "cell_type": "code",
   "execution_count": 304,
   "id": "0831a878",
   "metadata": {},
   "outputs": [
    {
     "name": "stdout",
     "output_type": "stream",
     "text": [
      "Отключилось 61 % признаков\n"
     ]
    }
   ],
   "source": [
    "i = 0\n",
    "for idx in range(len(model_l1.coef_)):\n",
    "    if model.coef_[idx] == model_l1.coef_[idx]:\n",
    "        continue\n",
    "    elif (model.coef_[idx] != 0) & (model_l1.coef_[idx] == 0):\n",
    "        i += 1\n",
    "    else:\n",
    "        continue\n",
    "\n",
    "print(f'Отключилось {round(i * 100 / 6000)} % признаков')\n"
   ]
  },
  {
   "cell_type": "markdown",
   "id": "ba40fb81",
   "metadata": {},
   "source": [
    "**В чём разница между L1 и L2 регуляризацией? почему L1 можно использовать для отбора признаков, а L2 нельзя?**\n",
    "\n",
    "L1 регуляризация не является гладкой в геометрическом смысле. Из-за своей угловатости модель имеет свойства находить пересечения некоторых признаков с осью какого-либо признака, что означает, что некоторые признаки в данной точке будут равны 0. Геометрическим смыслом L2-регуляризации является поиск в некоторой округлой области с центром в 0. Если посмотреть на аналитический смысл L2 регуляризации, то можно понять, что L2 регуляризация уменьшает большие веса, и при этом не трогает маленькие, следовательно обнулить какие-либо веса не получится. Так как данный регуляризатор работает с нормой, которая будет становиться меньше, если вычитать из большего веса определенную величину, то значение будет уменьшаться больше, если вычитать из большего параметра ветора весов. В L1 регуляризации не важно из какого веса вычитать некоторое значение. поэтому некоторые веса в модели обнуляются, что приводит к уменьшению значения регуляризатора (не факт, что модель улучшиться)."
   ]
  },
  {
   "cell_type": "markdown",
   "id": "03367c85",
   "metadata": {},
   "source": [
    "Визуализировать реальный таргет и его прогноз (последние 100 точек, сортировка по дате). если использована кросс-валидация, то по график нужен для каждого фолда"
   ]
  },
  {
   "cell_type": "code",
   "execution_count": 307,
   "id": "e389d21b",
   "metadata": {},
   "outputs": [
    {
     "data": {
      "text/plain": [
       "(2016,)"
      ]
     },
     "execution_count": 307,
     "metadata": {},
     "output_type": "execute_result"
    }
   ],
   "source": [
    "y_predict_l1 = model_l1.predict(X_test_ohe)\n",
    "y_predict_l1.shape"
   ]
  },
  {
   "cell_type": "code",
   "execution_count": 336,
   "id": "57439419",
   "metadata": {},
   "outputs": [
    {
     "data": {
      "text/plain": [
       "<matplotlib.legend.Legend at 0x15538a27820>"
      ]
     },
     "execution_count": 336,
     "metadata": {},
     "output_type": "execute_result"
    },
    {
     "data": {
      "image/png": "[encoded data removed]",
      "text/plain": [
       "<Figure size 432x288 with 1 Axes>"
      ]
     },
     "metadata": {
      "needs_background": "light"
     },
     "output_type": "display_data"
    }
   ],
   "source": [
    "plt.plot(energydata_complete.index[-100:], y_predict_l1[-100:], color='orange', label='predict')\n",
    "plt.plot(energydata_complete.index[-100:], y_test[-100:], label='target')\n",
    "plt.xlabel('Date')\n",
    "plt.ylabel('Appliance')\n",
    "plt.legend(loc='best')"
   ]
  },
  {
   "cell_type": "markdown",
   "id": "64a685e3",
   "metadata": {},
   "source": [
    "**Confidence Bound**\n",
    "\n",
    " На веса модели (исключая bias) накинуть случайный шум 10000 раз.\n",
    "например, $w' = w \\tau,\\ \\tau \\sim \\mathcal{N}(1,\\ 0.2)$\n"
   ]
  },
  {
   "cell_type": "code",
   "execution_count": 332,
   "id": "4742c0ba",
   "metadata": {},
   "outputs": [],
   "source": [
    "coefficients = model_l1.coef_\n",
    "idx = 0\n",
    "for idx in range(10000):\n",
    "    coefficients += np.random.normal(1, 0.2, 6000)\n",
    "    idx +=1"
   ]
  },
  {
   "cell_type": "markdown",
   "id": "bfb6701f",
   "metadata": {},
   "source": [
    "**Какие квантили отвечают за нижнюю и верхнюю границу 95%-го доверительного интервала? (LCB и UCB)**\n",
    "\n",
    "В случае нормального распределения квантиль нижняя граница -1.645, а верхняя 1.645"
   ]
  },
  {
   "cell_type": "code",
   "execution_count": null,
   "id": "ecc1d7ba",
   "metadata": {},
   "outputs": [],
   "source": []
  }
 ],
 "metadata": {
  "kernelspec": {
   "display_name": "Python 3",
   "language": "python",
   "name": "python3"
  },
  "language_info": {
   "codemirror_mode": {
    "name": "ipython",
    "version": 3
   },
   "file_extension": ".py",
   "mimetype": "text/x-python",
   "name": "python",
   "nbconvert_exporter": "python",
   "pygments_lexer": "ipython3",
   "version": "3.8.10"
  }
 },
 "nbformat": 4,
 "nbformat_minor": 5
}
